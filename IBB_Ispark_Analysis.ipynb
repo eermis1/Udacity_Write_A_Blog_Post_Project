{
 "cells": [
  {
   "cell_type": "markdown",
   "metadata": {},
   "source": [
    "# The Istanbul Metropolitan Municipality Car Park Network \"ISPARK\" Analysis <br>\n",
    "*Prepared by Evren Ermis based the data from https://data.ibb.gov.tr/*\n",
    "***"
   ]
  },
  {
   "cell_type": "markdown",
   "metadata": {},
   "source": [
    "<img width=\"500\" height=\"4000\" align=\"left\" src=\"https://user-images.githubusercontent.com/36535914/88682655-94339a80-d0fb-11ea-8411-b838ce55d391.jpg\"/>"
   ]
  },
  {
   "cell_type": "markdown",
   "metadata": {},
   "source": [
    "## 1 - Business Understanding"
   ]
  },
  {
   "cell_type": "markdown",
   "metadata": {},
   "source": [
    "In this project, ISPARK - Istanbul Park, municipally driven car park company, data has used to analyze Istanbul car park network including parking point cost, usage and location."
   ]
  },
  {
   "cell_type": "markdown",
   "metadata": {},
   "source": [
    "In this project; I try to find out the answers of below questions <br>\n",
    "\n",
    "   - How many parking zones does each side of Istanbul have? What is the average monthly subscription cost per side?\n",
    "   \n",
    "   - What is the number of parking zones and their monthly cost of each district in Istanbul ? \n",
    "    \n",
    "   - What is the average utilization rate and total capacity of parking zones of each district in Istanbul ? \n",
    "   \n",
    "   - What is the free stopping availability in Istanbul ?"
   ]
  },
  {
   "cell_type": "markdown",
   "metadata": {},
   "source": [
    "## 2 - Project Dependencies \n",
    "\n",
    "In order to run the notebook flawlessly please run: <br>\n",
    "\n",
    "    - pip install plotly==4.9.0\n",
    "    - pip install pandas\n",
    "    - pip install numpy\n",
    "    - pip install matplotlib\n",
    "    - conda install -c plotly plotly-orca==1.3.1 psutil requests\n",
    "    \n",
    "###  Important Note\n",
    "\n",
    "Plotly graphs in the project does not illustrated when the notebook is opened on Github because of static render. <br>\n",
    "Please see the Medium Post (link on the readme) or just run the notebook locally :) \n",
    "    "
   ]
  },
  {
   "cell_type": "markdown",
   "metadata": {},
   "source": [
    "## 3 - Explanatory Data Analysis and Insights"
   ]
  },
  {
   "cell_type": "markdown",
   "metadata": {},
   "source": [
    "### 3.1 - Data Load & Preprocessing"
   ]
  },
  {
   "cell_type": "code",
   "execution_count": 101,
   "metadata": {},
   "outputs": [],
   "source": [
    "import numpy as np \n",
    "import pandas as pd\n",
    "import plotly.graph_objects as go\n",
    "from plotly.subplots import make_subplots\n",
    "import matplotlib.pyplot as plt"
   ]
  },
  {
   "cell_type": "code",
   "execution_count": 102,
   "metadata": {},
   "outputs": [],
   "source": [
    "df = pd.read_excel(\"ibb_ispark.xlsx\", sheet_name=\"İSPARK Otoparklarına Ait B.\", index_col = 0)"
   ]
  },
  {
   "cell_type": "code",
   "execution_count": 103,
   "metadata": {},
   "outputs": [],
   "source": [
    "# Lower all columns and put \"_\" ilo \" \"\n",
    "# Drop duplicated parking zones\n",
    "\n",
    "df.columns = df.columns.str.replace(\" \", \"_\")\n",
    "df.columns = map(str.lower, df.columns)\n",
    "df.drop_duplicates(subset=\"park_adı\", keep=\"first\", inplace=True)"
   ]
  },
  {
   "cell_type": "code",
   "execution_count": 104,
   "metadata": {},
   "outputs": [
    {
     "data": {
      "text/html": [
       "<div>\n",
       "<style scoped>\n",
       "    .dataframe tbody tr th:only-of-type {\n",
       "        vertical-align: middle;\n",
       "    }\n",
       "\n",
       "    .dataframe tbody tr th {\n",
       "        vertical-align: top;\n",
       "    }\n",
       "\n",
       "    .dataframe thead th {\n",
       "        text-align: right;\n",
       "    }\n",
       "</style>\n",
       "<table border=\"1\" class=\"dataframe\">\n",
       "  <thead>\n",
       "    <tr style=\"text-align: right;\">\n",
       "      <th></th>\n",
       "      <th>park_adı</th>\n",
       "      <th>lokasyon_id</th>\n",
       "      <th>lokasyon_kodu</th>\n",
       "      <th>lokasyon_adı</th>\n",
       "      <th>park_tipi_id</th>\n",
       "      <th>park_tipi</th>\n",
       "      <th>park_kapasitesi</th>\n",
       "      <th>calışma_saatleri</th>\n",
       "      <th>bölge_id</th>\n",
       "      <th>bölge</th>\n",
       "      <th>...</th>\n",
       "      <th>i̇lçe</th>\n",
       "      <th>adres</th>\n",
       "      <th>enlem/boylam</th>\n",
       "      <th>polygon_verisi</th>\n",
       "      <th>boylam</th>\n",
       "      <th>enlem</th>\n",
       "      <th>aylık_abonelik_ücreti</th>\n",
       "      <th>ücretsiz_parklanma_süresi_(dakika)</th>\n",
       "      <th>tarifesi</th>\n",
       "      <th>park_et_devam_et_noktası</th>\n",
       "    </tr>\n",
       "    <tr>\n",
       "      <th>Park ID</th>\n",
       "      <th></th>\n",
       "      <th></th>\n",
       "      <th></th>\n",
       "      <th></th>\n",
       "      <th></th>\n",
       "      <th></th>\n",
       "      <th></th>\n",
       "      <th></th>\n",
       "      <th></th>\n",
       "      <th></th>\n",
       "      <th></th>\n",
       "      <th></th>\n",
       "      <th></th>\n",
       "      <th></th>\n",
       "      <th></th>\n",
       "      <th></th>\n",
       "      <th></th>\n",
       "      <th></th>\n",
       "      <th></th>\n",
       "      <th></th>\n",
       "      <th></th>\n",
       "    </tr>\n",
       "  </thead>\n",
       "  <tbody>\n",
       "    <tr>\n",
       "      <td>359</td>\n",
       "      <td>Atatürk Bulvarı 1</td>\n",
       "      <td>150</td>\n",
       "      <td>1</td>\n",
       "      <td>0001 Atatürk Bulvarı 1</td>\n",
       "      <td>2</td>\n",
       "      <td>YOL ÜSTÜ</td>\n",
       "      <td>18</td>\n",
       "      <td>07:30-18:30</td>\n",
       "      <td>4</td>\n",
       "      <td>Avrupa</td>\n",
       "      <td>...</td>\n",
       "      <td>FATİH</td>\n",
       "      <td>KEMALPAŞA MAHALLESİ ATATÜRK BULVARI 1 / EMİNÖNÜ</td>\n",
       "      <td>POINT (28.953538299155497 41.011291499669255)</td>\n",
       "      <td>MULTIPOLYGON (((28.95351077 41.01117896, 28.95...</td>\n",
       "      <td>28.953538</td>\n",
       "      <td>41.011291</td>\n",
       "      <td>0.0</td>\n",
       "      <td>15.0</td>\n",
       "      <td>0-1 Saat  : 10,00;1-2 Saat  : 11,00;2-4 Saat  ...</td>\n",
       "      <td>0</td>\n",
       "    </tr>\n",
       "    <tr>\n",
       "      <td>860</td>\n",
       "      <td>Bakırköy İstanbul Caddesi 1</td>\n",
       "      <td>384</td>\n",
       "      <td>2</td>\n",
       "      <td>0002 Bakırköy İstanbul Caddesi</td>\n",
       "      <td>2</td>\n",
       "      <td>YOL ÜSTÜ</td>\n",
       "      <td>30</td>\n",
       "      <td>08:00-19:00</td>\n",
       "      <td>4</td>\n",
       "      <td>Avrupa</td>\n",
       "      <td>...</td>\n",
       "      <td>BAKIRKÖY</td>\n",
       "      <td>YEŞİLKÖY MAHALLESİ İSTANBUL CADDESİ ÜZERİ BAKI...</td>\n",
       "      <td>POINT (28.8747420429072 40.97837155571149)</td>\n",
       "      <td>MULTIPOLYGON (((28.87445897 40.97835591, 28.87...</td>\n",
       "      <td>28.874742</td>\n",
       "      <td>40.978372</td>\n",
       "      <td>400.0</td>\n",
       "      <td>15.0</td>\n",
       "      <td>0-1 Saat  : 10,00;1-2 Saat  : 12,00;2-4 Saat  ...</td>\n",
       "      <td>0</td>\n",
       "    </tr>\n",
       "    <tr>\n",
       "      <td>861</td>\n",
       "      <td>Bakırköy İstanbul Caddesi 2</td>\n",
       "      <td>384</td>\n",
       "      <td>2</td>\n",
       "      <td>0002 Bakırköy İstanbul Caddesi</td>\n",
       "      <td>2</td>\n",
       "      <td>YOL ÜSTÜ</td>\n",
       "      <td>30</td>\n",
       "      <td>08:00-19:00</td>\n",
       "      <td>4</td>\n",
       "      <td>Avrupa</td>\n",
       "      <td>...</td>\n",
       "      <td>BAKIRKÖY</td>\n",
       "      <td>YEŞİLKÖY MAHALLESİ İSTANBUL CADDESİ ÜZERİ BAKI...</td>\n",
       "      <td>POINT (28.875321425593391 40.97841938898064)</td>\n",
       "      <td>MULTIPOLYGON (((28.87546464 40.97842251, 28.87...</td>\n",
       "      <td>28.875321</td>\n",
       "      <td>40.978419</td>\n",
       "      <td>400.0</td>\n",
       "      <td>15.0</td>\n",
       "      <td>0-1 Saat  : 10,00;1-2 Saat  : 12,00;2-4 Saat  ...</td>\n",
       "      <td>0</td>\n",
       "    </tr>\n",
       "    <tr>\n",
       "      <td>862</td>\n",
       "      <td>Bakırköy İstanbul Caddesi 3</td>\n",
       "      <td>384</td>\n",
       "      <td>2</td>\n",
       "      <td>0002 Bakırköy İstanbul Caddesi</td>\n",
       "      <td>2</td>\n",
       "      <td>YOL ÜSTÜ</td>\n",
       "      <td>70</td>\n",
       "      <td>08:00-19:00</td>\n",
       "      <td>4</td>\n",
       "      <td>Avrupa</td>\n",
       "      <td>...</td>\n",
       "      <td>BAKIRKÖY</td>\n",
       "      <td>YEŞİLKÖY MAHALLESİ İSTANBUL CADDESİ ÜZERİ BAKI...</td>\n",
       "      <td>POINT (28.87595720460348 40.978472523602171)</td>\n",
       "      <td>MULTIPOLYGON (((28.87628195 40.9784853, 28.876...</td>\n",
       "      <td>28.875957</td>\n",
       "      <td>40.978473</td>\n",
       "      <td>400.0</td>\n",
       "      <td>15.0</td>\n",
       "      <td>0-1 Saat  : 10,00;1-2 Saat  : 12,00;2-4 Saat  ...</td>\n",
       "      <td>0</td>\n",
       "    </tr>\n",
       "    <tr>\n",
       "      <td>867</td>\n",
       "      <td>Bakırköy İstanbul Caddesi 8</td>\n",
       "      <td>384</td>\n",
       "      <td>2</td>\n",
       "      <td>0002 Bakırköy İstanbul Caddesi</td>\n",
       "      <td>2</td>\n",
       "      <td>YOL ÜSTÜ</td>\n",
       "      <td>40</td>\n",
       "      <td>08:00-19:00</td>\n",
       "      <td>4</td>\n",
       "      <td>Avrupa</td>\n",
       "      <td>...</td>\n",
       "      <td>BAKIRKÖY</td>\n",
       "      <td>YEŞİLKÖY MAHALLESİ İSTANBUL CADDESİ ÜZERİ BAKI...</td>\n",
       "      <td>POINT (28.878947832742334 40.978643838182634)</td>\n",
       "      <td>MULTIPOLYGON (((28.87909771 40.97868195, 28.87...</td>\n",
       "      <td>28.878948</td>\n",
       "      <td>40.978644</td>\n",
       "      <td>400.0</td>\n",
       "      <td>15.0</td>\n",
       "      <td>0-1 Saat  : 10,00;1-2 Saat  : 12,00;2-4 Saat  ...</td>\n",
       "      <td>0</td>\n",
       "    </tr>\n",
       "  </tbody>\n",
       "</table>\n",
       "<p>5 rows × 23 columns</p>\n",
       "</div>"
      ],
      "text/plain": [
       "                            park_adı  lokasyon_id  lokasyon_kodu  \\\n",
       "Park ID                                                            \n",
       "359                Atatürk Bulvarı 1          150              1   \n",
       "860      Bakırköy İstanbul Caddesi 1          384              2   \n",
       "861      Bakırköy İstanbul Caddesi 2          384              2   \n",
       "862      Bakırköy İstanbul Caddesi 3          384              2   \n",
       "867      Bakırköy İstanbul Caddesi 8          384              2   \n",
       "\n",
       "                           lokasyon_adı  park_tipi_id park_tipi  \\\n",
       "Park ID                                                           \n",
       "359              0001 Atatürk Bulvarı 1             2  YOL ÜSTÜ   \n",
       "860      0002 Bakırköy İstanbul Caddesi             2  YOL ÜSTÜ   \n",
       "861      0002 Bakırköy İstanbul Caddesi             2  YOL ÜSTÜ   \n",
       "862      0002 Bakırköy İstanbul Caddesi             2  YOL ÜSTÜ   \n",
       "867      0002 Bakırköy İstanbul Caddesi             2  YOL ÜSTÜ   \n",
       "\n",
       "         park_kapasitesi calışma_saatleri  bölge_id   bölge  ...     i̇lçe  \\\n",
       "Park ID                                                      ...             \n",
       "359                   18      07:30-18:30         4  Avrupa  ...     FATİH   \n",
       "860                   30      08:00-19:00         4  Avrupa  ...  BAKIRKÖY   \n",
       "861                   30      08:00-19:00         4  Avrupa  ...  BAKIRKÖY   \n",
       "862                   70      08:00-19:00         4  Avrupa  ...  BAKIRKÖY   \n",
       "867                   40      08:00-19:00         4  Avrupa  ...  BAKIRKÖY   \n",
       "\n",
       "                                                     adres  \\\n",
       "Park ID                                                      \n",
       "359        KEMALPAŞA MAHALLESİ ATATÜRK BULVARI 1 / EMİNÖNÜ   \n",
       "860      YEŞİLKÖY MAHALLESİ İSTANBUL CADDESİ ÜZERİ BAKI...   \n",
       "861      YEŞİLKÖY MAHALLESİ İSTANBUL CADDESİ ÜZERİ BAKI...   \n",
       "862      YEŞİLKÖY MAHALLESİ İSTANBUL CADDESİ ÜZERİ BAKI...   \n",
       "867      YEŞİLKÖY MAHALLESİ İSTANBUL CADDESİ ÜZERİ BAKI...   \n",
       "\n",
       "                                          enlem/boylam  \\\n",
       "Park ID                                                  \n",
       "359      POINT (28.953538299155497 41.011291499669255)   \n",
       "860         POINT (28.8747420429072 40.97837155571149)   \n",
       "861       POINT (28.875321425593391 40.97841938898064)   \n",
       "862       POINT (28.87595720460348 40.978472523602171)   \n",
       "867      POINT (28.878947832742334 40.978643838182634)   \n",
       "\n",
       "                                            polygon_verisi     boylam  \\\n",
       "Park ID                                                                 \n",
       "359      MULTIPOLYGON (((28.95351077 41.01117896, 28.95...  28.953538   \n",
       "860      MULTIPOLYGON (((28.87445897 40.97835591, 28.87...  28.874742   \n",
       "861      MULTIPOLYGON (((28.87546464 40.97842251, 28.87...  28.875321   \n",
       "862      MULTIPOLYGON (((28.87628195 40.9784853, 28.876...  28.875957   \n",
       "867      MULTIPOLYGON (((28.87909771 40.97868195, 28.87...  28.878948   \n",
       "\n",
       "             enlem aylık_abonelik_ücreti  ücretsiz_parklanma_süresi_(dakika)  \\\n",
       "Park ID                                                                        \n",
       "359      41.011291                   0.0                                15.0   \n",
       "860      40.978372                 400.0                                15.0   \n",
       "861      40.978419                 400.0                                15.0   \n",
       "862      40.978473                 400.0                                15.0   \n",
       "867      40.978644                 400.0                                15.0   \n",
       "\n",
       "                                                  tarifesi  \\\n",
       "Park ID                                                      \n",
       "359      0-1 Saat  : 10,00;1-2 Saat  : 11,00;2-4 Saat  ...   \n",
       "860      0-1 Saat  : 10,00;1-2 Saat  : 12,00;2-4 Saat  ...   \n",
       "861      0-1 Saat  : 10,00;1-2 Saat  : 12,00;2-4 Saat  ...   \n",
       "862      0-1 Saat  : 10,00;1-2 Saat  : 12,00;2-4 Saat  ...   \n",
       "867      0-1 Saat  : 10,00;1-2 Saat  : 12,00;2-4 Saat  ...   \n",
       "\n",
       "         park_et_devam_et_noktası  \n",
       "Park ID                            \n",
       "359                             0  \n",
       "860                             0  \n",
       "861                             0  \n",
       "862                             0  \n",
       "867                             0  \n",
       "\n",
       "[5 rows x 23 columns]"
      ]
     },
     "execution_count": 104,
     "metadata": {},
     "output_type": "execute_result"
    }
   ],
   "source": [
    "# Check whether everything is allright\n",
    "\n",
    "df.head()"
   ]
  },
  {
   "cell_type": "markdown",
   "metadata": {},
   "source": [
    "### 3.2 - Side Comparison Analysis by Parking Zone Count and Monthly Subscription Cost"
   ]
  },
  {
   "cell_type": "code",
   "execution_count": 105,
   "metadata": {},
   "outputs": [
    {
     "data": {
      "text/plain": [
       "bölge\n",
       "Avrupa     173.0\n",
       "Anadolu    130.0\n",
       "Name: aylık_abonelik_ücreti, dtype: float64"
      ]
     },
     "execution_count": 105,
     "metadata": {},
     "output_type": "execute_result"
    }
   ],
   "source": [
    "df.groupby(\"bölge\")[\"aylık_abonelik_ücreti\"].mean().round(0).sort_values(ascending=False)"
   ]
  },
  {
   "cell_type": "code",
   "execution_count": 106,
   "metadata": {},
   "outputs": [
    {
     "data": {
      "text/plain": [
       "bölge\n",
       "Avrupa     482\n",
       "Anadolu    205\n",
       "Name: lokasyon_id, dtype: int64"
      ]
     },
     "execution_count": 106,
     "metadata": {},
     "output_type": "execute_result"
    }
   ],
   "source": [
    "df.groupby(\"bölge\")[\"lokasyon_id\"].count().sort_values(ascending=False)"
   ]
  },
  {
   "cell_type": "code",
   "execution_count": 107,
   "metadata": {},
   "outputs": [
    {
     "data": {
      "application/vnd.plotly.v1+json": {
       "config": {
        "plotlyServerURL": "https://plot.ly"
       },
       "data": [
        {
         "domain": {
          "x": [
           0,
           0.45
          ],
          "y": [
           0,
           1
          ]
         },
         "hole": 0.42,
         "insidetextorientation": "radial",
         "labels": [
          "Avrupa",
          "Anadolu"
         ],
         "marker": {
          "colors": [
           "#316395",
           "#B6E880"
          ],
          "line": {
           "color": "#000000",
           "width": 2
          }
         },
         "textinfo": "label+value",
         "type": "pie",
         "values": [
          482,
          205
         ]
        },
        {
         "domain": {
          "x": [
           0.55,
           1
          ],
          "y": [
           0,
           1
          ]
         },
         "hole": 0.42,
         "insidetextorientation": "radial",
         "labels": [
          "Avrupa",
          "Anadolu"
         ],
         "marker": {
          "colors": [
           "#316395",
           "#B6E880"
          ],
          "line": {
           "color": "#000000",
           "width": 2
          }
         },
         "textinfo": "label+value",
         "type": "pie",
         "values": [
          173,
          130
         ]
        }
       ],
       "layout": {
        "annotations": [
         {
          "font": {
           "size": 13
          },
          "showarrow": false,
          "text": "Parking Point Count",
          "x": 0.146,
          "y": 0.51
         },
         {
          "font": {
           "size": 13
          },
          "showarrow": false,
          "text": "Avg. Subscrp. Cost",
          "x": 0.855,
          "y": 0.51
         }
        ],
        "legend": {
         "bgcolor": "White",
         "bordercolor": "Black",
         "borderwidth": 1,
         "font": {
          "color": "black",
          "family": "sans-serif",
          "size": 12
         },
         "traceorder": "normal",
         "x": 0.45,
         "y": -0.1
        },
        "template": {
         "data": {
          "bar": [
           {
            "error_x": {
             "color": "#2a3f5f"
            },
            "error_y": {
             "color": "#2a3f5f"
            },
            "marker": {
             "line": {
              "color": "#E5ECF6",
              "width": 0.5
             }
            },
            "type": "bar"
           }
          ],
          "barpolar": [
           {
            "marker": {
             "line": {
              "color": "#E5ECF6",
              "width": 0.5
             }
            },
            "type": "barpolar"
           }
          ],
          "carpet": [
           {
            "aaxis": {
             "endlinecolor": "#2a3f5f",
             "gridcolor": "white",
             "linecolor": "white",
             "minorgridcolor": "white",
             "startlinecolor": "#2a3f5f"
            },
            "baxis": {
             "endlinecolor": "#2a3f5f",
             "gridcolor": "white",
             "linecolor": "white",
             "minorgridcolor": "white",
             "startlinecolor": "#2a3f5f"
            },
            "type": "carpet"
           }
          ],
          "choropleth": [
           {
            "colorbar": {
             "outlinewidth": 0,
             "ticks": ""
            },
            "type": "choropleth"
           }
          ],
          "contour": [
           {
            "colorbar": {
             "outlinewidth": 0,
             "ticks": ""
            },
            "colorscale": [
             [
              0,
              "#0d0887"
             ],
             [
              0.1111111111111111,
              "#46039f"
             ],
             [
              0.2222222222222222,
              "#7201a8"
             ],
             [
              0.3333333333333333,
              "#9c179e"
             ],
             [
              0.4444444444444444,
              "#bd3786"
             ],
             [
              0.5555555555555556,
              "#d8576b"
             ],
             [
              0.6666666666666666,
              "#ed7953"
             ],
             [
              0.7777777777777778,
              "#fb9f3a"
             ],
             [
              0.8888888888888888,
              "#fdca26"
             ],
             [
              1,
              "#f0f921"
             ]
            ],
            "type": "contour"
           }
          ],
          "contourcarpet": [
           {
            "colorbar": {
             "outlinewidth": 0,
             "ticks": ""
            },
            "type": "contourcarpet"
           }
          ],
          "heatmap": [
           {
            "colorbar": {
             "outlinewidth": 0,
             "ticks": ""
            },
            "colorscale": [
             [
              0,
              "#0d0887"
             ],
             [
              0.1111111111111111,
              "#46039f"
             ],
             [
              0.2222222222222222,
              "#7201a8"
             ],
             [
              0.3333333333333333,
              "#9c179e"
             ],
             [
              0.4444444444444444,
              "#bd3786"
             ],
             [
              0.5555555555555556,
              "#d8576b"
             ],
             [
              0.6666666666666666,
              "#ed7953"
             ],
             [
              0.7777777777777778,
              "#fb9f3a"
             ],
             [
              0.8888888888888888,
              "#fdca26"
             ],
             [
              1,
              "#f0f921"
             ]
            ],
            "type": "heatmap"
           }
          ],
          "heatmapgl": [
           {
            "colorbar": {
             "outlinewidth": 0,
             "ticks": ""
            },
            "colorscale": [
             [
              0,
              "#0d0887"
             ],
             [
              0.1111111111111111,
              "#46039f"
             ],
             [
              0.2222222222222222,
              "#7201a8"
             ],
             [
              0.3333333333333333,
              "#9c179e"
             ],
             [
              0.4444444444444444,
              "#bd3786"
             ],
             [
              0.5555555555555556,
              "#d8576b"
             ],
             [
              0.6666666666666666,
              "#ed7953"
             ],
             [
              0.7777777777777778,
              "#fb9f3a"
             ],
             [
              0.8888888888888888,
              "#fdca26"
             ],
             [
              1,
              "#f0f921"
             ]
            ],
            "type": "heatmapgl"
           }
          ],
          "histogram": [
           {
            "marker": {
             "colorbar": {
              "outlinewidth": 0,
              "ticks": ""
             }
            },
            "type": "histogram"
           }
          ],
          "histogram2d": [
           {
            "colorbar": {
             "outlinewidth": 0,
             "ticks": ""
            },
            "colorscale": [
             [
              0,
              "#0d0887"
             ],
             [
              0.1111111111111111,
              "#46039f"
             ],
             [
              0.2222222222222222,
              "#7201a8"
             ],
             [
              0.3333333333333333,
              "#9c179e"
             ],
             [
              0.4444444444444444,
              "#bd3786"
             ],
             [
              0.5555555555555556,
              "#d8576b"
             ],
             [
              0.6666666666666666,
              "#ed7953"
             ],
             [
              0.7777777777777778,
              "#fb9f3a"
             ],
             [
              0.8888888888888888,
              "#fdca26"
             ],
             [
              1,
              "#f0f921"
             ]
            ],
            "type": "histogram2d"
           }
          ],
          "histogram2dcontour": [
           {
            "colorbar": {
             "outlinewidth": 0,
             "ticks": ""
            },
            "colorscale": [
             [
              0,
              "#0d0887"
             ],
             [
              0.1111111111111111,
              "#46039f"
             ],
             [
              0.2222222222222222,
              "#7201a8"
             ],
             [
              0.3333333333333333,
              "#9c179e"
             ],
             [
              0.4444444444444444,
              "#bd3786"
             ],
             [
              0.5555555555555556,
              "#d8576b"
             ],
             [
              0.6666666666666666,
              "#ed7953"
             ],
             [
              0.7777777777777778,
              "#fb9f3a"
             ],
             [
              0.8888888888888888,
              "#fdca26"
             ],
             [
              1,
              "#f0f921"
             ]
            ],
            "type": "histogram2dcontour"
           }
          ],
          "mesh3d": [
           {
            "colorbar": {
             "outlinewidth": 0,
             "ticks": ""
            },
            "type": "mesh3d"
           }
          ],
          "parcoords": [
           {
            "line": {
             "colorbar": {
              "outlinewidth": 0,
              "ticks": ""
             }
            },
            "type": "parcoords"
           }
          ],
          "pie": [
           {
            "automargin": true,
            "type": "pie"
           }
          ],
          "scatter": [
           {
            "marker": {
             "colorbar": {
              "outlinewidth": 0,
              "ticks": ""
             }
            },
            "type": "scatter"
           }
          ],
          "scatter3d": [
           {
            "line": {
             "colorbar": {
              "outlinewidth": 0,
              "ticks": ""
             }
            },
            "marker": {
             "colorbar": {
              "outlinewidth": 0,
              "ticks": ""
             }
            },
            "type": "scatter3d"
           }
          ],
          "scattercarpet": [
           {
            "marker": {
             "colorbar": {
              "outlinewidth": 0,
              "ticks": ""
             }
            },
            "type": "scattercarpet"
           }
          ],
          "scattergeo": [
           {
            "marker": {
             "colorbar": {
              "outlinewidth": 0,
              "ticks": ""
             }
            },
            "type": "scattergeo"
           }
          ],
          "scattergl": [
           {
            "marker": {
             "colorbar": {
              "outlinewidth": 0,
              "ticks": ""
             }
            },
            "type": "scattergl"
           }
          ],
          "scattermapbox": [
           {
            "marker": {
             "colorbar": {
              "outlinewidth": 0,
              "ticks": ""
             }
            },
            "type": "scattermapbox"
           }
          ],
          "scatterpolar": [
           {
            "marker": {
             "colorbar": {
              "outlinewidth": 0,
              "ticks": ""
             }
            },
            "type": "scatterpolar"
           }
          ],
          "scatterpolargl": [
           {
            "marker": {
             "colorbar": {
              "outlinewidth": 0,
              "ticks": ""
             }
            },
            "type": "scatterpolargl"
           }
          ],
          "scatterternary": [
           {
            "marker": {
             "colorbar": {
              "outlinewidth": 0,
              "ticks": ""
             }
            },
            "type": "scatterternary"
           }
          ],
          "surface": [
           {
            "colorbar": {
             "outlinewidth": 0,
             "ticks": ""
            },
            "colorscale": [
             [
              0,
              "#0d0887"
             ],
             [
              0.1111111111111111,
              "#46039f"
             ],
             [
              0.2222222222222222,
              "#7201a8"
             ],
             [
              0.3333333333333333,
              "#9c179e"
             ],
             [
              0.4444444444444444,
              "#bd3786"
             ],
             [
              0.5555555555555556,
              "#d8576b"
             ],
             [
              0.6666666666666666,
              "#ed7953"
             ],
             [
              0.7777777777777778,
              "#fb9f3a"
             ],
             [
              0.8888888888888888,
              "#fdca26"
             ],
             [
              1,
              "#f0f921"
             ]
            ],
            "type": "surface"
           }
          ],
          "table": [
           {
            "cells": {
             "fill": {
              "color": "#EBF0F8"
             },
             "line": {
              "color": "white"
             }
            },
            "header": {
             "fill": {
              "color": "#C8D4E3"
             },
             "line": {
              "color": "white"
             }
            },
            "type": "table"
           }
          ]
         },
         "layout": {
          "annotationdefaults": {
           "arrowcolor": "#2a3f5f",
           "arrowhead": 0,
           "arrowwidth": 1
          },
          "coloraxis": {
           "colorbar": {
            "outlinewidth": 0,
            "ticks": ""
           }
          },
          "colorscale": {
           "diverging": [
            [
             0,
             "#8e0152"
            ],
            [
             0.1,
             "#c51b7d"
            ],
            [
             0.2,
             "#de77ae"
            ],
            [
             0.3,
             "#f1b6da"
            ],
            [
             0.4,
             "#fde0ef"
            ],
            [
             0.5,
             "#f7f7f7"
            ],
            [
             0.6,
             "#e6f5d0"
            ],
            [
             0.7,
             "#b8e186"
            ],
            [
             0.8,
             "#7fbc41"
            ],
            [
             0.9,
             "#4d9221"
            ],
            [
             1,
             "#276419"
            ]
           ],
           "sequential": [
            [
             0,
             "#0d0887"
            ],
            [
             0.1111111111111111,
             "#46039f"
            ],
            [
             0.2222222222222222,
             "#7201a8"
            ],
            [
             0.3333333333333333,
             "#9c179e"
            ],
            [
             0.4444444444444444,
             "#bd3786"
            ],
            [
             0.5555555555555556,
             "#d8576b"
            ],
            [
             0.6666666666666666,
             "#ed7953"
            ],
            [
             0.7777777777777778,
             "#fb9f3a"
            ],
            [
             0.8888888888888888,
             "#fdca26"
            ],
            [
             1,
             "#f0f921"
            ]
           ],
           "sequentialminus": [
            [
             0,
             "#0d0887"
            ],
            [
             0.1111111111111111,
             "#46039f"
            ],
            [
             0.2222222222222222,
             "#7201a8"
            ],
            [
             0.3333333333333333,
             "#9c179e"
            ],
            [
             0.4444444444444444,
             "#bd3786"
            ],
            [
             0.5555555555555556,
             "#d8576b"
            ],
            [
             0.6666666666666666,
             "#ed7953"
            ],
            [
             0.7777777777777778,
             "#fb9f3a"
            ],
            [
             0.8888888888888888,
             "#fdca26"
            ],
            [
             1,
             "#f0f921"
            ]
           ]
          },
          "colorway": [
           "#636efa",
           "#EF553B",
           "#00cc96",
           "#ab63fa",
           "#FFA15A",
           "#19d3f3",
           "#FF6692",
           "#B6E880",
           "#FF97FF",
           "#FECB52"
          ],
          "font": {
           "color": "#2a3f5f"
          },
          "geo": {
           "bgcolor": "white",
           "lakecolor": "white",
           "landcolor": "#E5ECF6",
           "showlakes": true,
           "showland": true,
           "subunitcolor": "white"
          },
          "hoverlabel": {
           "align": "left"
          },
          "hovermode": "closest",
          "mapbox": {
           "style": "light"
          },
          "paper_bgcolor": "white",
          "plot_bgcolor": "#E5ECF6",
          "polar": {
           "angularaxis": {
            "gridcolor": "white",
            "linecolor": "white",
            "ticks": ""
           },
           "bgcolor": "#E5ECF6",
           "radialaxis": {
            "gridcolor": "white",
            "linecolor": "white",
            "ticks": ""
           }
          },
          "scene": {
           "xaxis": {
            "backgroundcolor": "#E5ECF6",
            "gridcolor": "white",
            "gridwidth": 2,
            "linecolor": "white",
            "showbackground": true,
            "ticks": "",
            "zerolinecolor": "white"
           },
           "yaxis": {
            "backgroundcolor": "#E5ECF6",
            "gridcolor": "white",
            "gridwidth": 2,
            "linecolor": "white",
            "showbackground": true,
            "ticks": "",
            "zerolinecolor": "white"
           },
           "zaxis": {
            "backgroundcolor": "#E5ECF6",
            "gridcolor": "white",
            "gridwidth": 2,
            "linecolor": "white",
            "showbackground": true,
            "ticks": "",
            "zerolinecolor": "white"
           }
          },
          "shapedefaults": {
           "line": {
            "color": "#2a3f5f"
           }
          },
          "ternary": {
           "aaxis": {
            "gridcolor": "white",
            "linecolor": "white",
            "ticks": ""
           },
           "baxis": {
            "gridcolor": "white",
            "linecolor": "white",
            "ticks": ""
           },
           "bgcolor": "#E5ECF6",
           "caxis": {
            "gridcolor": "white",
            "linecolor": "white",
            "ticks": ""
           }
          },
          "title": {
           "x": 0.05
          },
          "xaxis": {
           "automargin": true,
           "gridcolor": "white",
           "linecolor": "white",
           "ticks": "",
           "title": {
            "standoff": 15
           },
           "zerolinecolor": "white",
           "zerolinewidth": 2
          },
          "yaxis": {
           "automargin": true,
           "gridcolor": "white",
           "linecolor": "white",
           "ticks": "",
           "title": {
            "standoff": 15
           },
           "zerolinecolor": "white",
           "zerolinewidth": 2
          }
         }
        },
        "title": {
         "text": "Parking Zone Count & Avg. Monthly Cost per District in Istanbul"
        }
       }
      },
      "text/html": [
       "<div>\n",
       "        \n",
       "        \n",
       "            <div id=\"952ff3cf-d05a-48c2-b74c-8896ff309127\" class=\"plotly-graph-div\" style=\"height:525px; width:100%;\"></div>\n",
       "            <script type=\"text/javascript\">\n",
       "                require([\"plotly\"], function(Plotly) {\n",
       "                    window.PLOTLYENV=window.PLOTLYENV || {};\n",
       "                    \n",
       "                if (document.getElementById(\"952ff3cf-d05a-48c2-b74c-8896ff309127\")) {\n",
       "                    Plotly.newPlot(\n",
       "                        '952ff3cf-d05a-48c2-b74c-8896ff309127',\n",
       "                        [{\"domain\": {\"x\": [0.0, 0.45], \"y\": [0.0, 1.0]}, \"hole\": 0.42, \"insidetextorientation\": \"radial\", \"labels\": [\"Avrupa\", \"Anadolu\"], \"marker\": {\"colors\": [\"#316395\", \"#B6E880\"], \"line\": {\"color\": \"#000000\", \"width\": 2}}, \"textinfo\": \"label+value\", \"type\": \"pie\", \"values\": [482, 205]}, {\"domain\": {\"x\": [0.55, 1.0], \"y\": [0.0, 1.0]}, \"hole\": 0.42, \"insidetextorientation\": \"radial\", \"labels\": [\"Avrupa\", \"Anadolu\"], \"marker\": {\"colors\": [\"#316395\", \"#B6E880\"], \"line\": {\"color\": \"#000000\", \"width\": 2}}, \"textinfo\": \"label+value\", \"type\": \"pie\", \"values\": [173.0, 130.0]}],\n",
       "                        {\"annotations\": [{\"font\": {\"size\": 13}, \"showarrow\": false, \"text\": \"Parking Point Count\", \"x\": 0.146, \"y\": 0.51}, {\"font\": {\"size\": 13}, \"showarrow\": false, \"text\": \"Avg. Subscrp. Cost\", \"x\": 0.855, \"y\": 0.51}], \"legend\": {\"bgcolor\": \"White\", \"bordercolor\": \"Black\", \"borderwidth\": 1, \"font\": {\"color\": \"black\", \"family\": \"sans-serif\", \"size\": 12}, \"traceorder\": \"normal\", \"x\": 0.45, \"y\": -0.1}, \"template\": {\"data\": {\"bar\": [{\"error_x\": {\"color\": \"#2a3f5f\"}, \"error_y\": {\"color\": \"#2a3f5f\"}, \"marker\": {\"line\": {\"color\": \"#E5ECF6\", \"width\": 0.5}}, \"type\": \"bar\"}], \"barpolar\": [{\"marker\": {\"line\": {\"color\": \"#E5ECF6\", \"width\": 0.5}}, \"type\": \"barpolar\"}], \"carpet\": [{\"aaxis\": {\"endlinecolor\": \"#2a3f5f\", \"gridcolor\": \"white\", \"linecolor\": \"white\", \"minorgridcolor\": \"white\", \"startlinecolor\": \"#2a3f5f\"}, \"baxis\": {\"endlinecolor\": \"#2a3f5f\", \"gridcolor\": \"white\", \"linecolor\": \"white\", \"minorgridcolor\": \"white\", \"startlinecolor\": \"#2a3f5f\"}, \"type\": \"carpet\"}], \"choropleth\": [{\"colorbar\": {\"outlinewidth\": 0, \"ticks\": \"\"}, \"type\": \"choropleth\"}], \"contour\": [{\"colorbar\": {\"outlinewidth\": 0, \"ticks\": \"\"}, \"colorscale\": [[0.0, \"#0d0887\"], [0.1111111111111111, \"#46039f\"], [0.2222222222222222, \"#7201a8\"], [0.3333333333333333, \"#9c179e\"], [0.4444444444444444, \"#bd3786\"], [0.5555555555555556, \"#d8576b\"], [0.6666666666666666, \"#ed7953\"], [0.7777777777777778, \"#fb9f3a\"], [0.8888888888888888, \"#fdca26\"], [1.0, \"#f0f921\"]], \"type\": \"contour\"}], \"contourcarpet\": [{\"colorbar\": {\"outlinewidth\": 0, \"ticks\": \"\"}, \"type\": \"contourcarpet\"}], \"heatmap\": [{\"colorbar\": {\"outlinewidth\": 0, \"ticks\": \"\"}, \"colorscale\": [[0.0, \"#0d0887\"], [0.1111111111111111, \"#46039f\"], [0.2222222222222222, \"#7201a8\"], [0.3333333333333333, \"#9c179e\"], [0.4444444444444444, \"#bd3786\"], [0.5555555555555556, \"#d8576b\"], [0.6666666666666666, \"#ed7953\"], [0.7777777777777778, \"#fb9f3a\"], [0.8888888888888888, \"#fdca26\"], [1.0, \"#f0f921\"]], \"type\": \"heatmap\"}], \"heatmapgl\": [{\"colorbar\": {\"outlinewidth\": 0, \"ticks\": \"\"}, \"colorscale\": [[0.0, \"#0d0887\"], [0.1111111111111111, \"#46039f\"], [0.2222222222222222, \"#7201a8\"], [0.3333333333333333, \"#9c179e\"], [0.4444444444444444, \"#bd3786\"], [0.5555555555555556, \"#d8576b\"], [0.6666666666666666, \"#ed7953\"], [0.7777777777777778, \"#fb9f3a\"], [0.8888888888888888, \"#fdca26\"], [1.0, \"#f0f921\"]], \"type\": \"heatmapgl\"}], \"histogram\": [{\"marker\": {\"colorbar\": {\"outlinewidth\": 0, \"ticks\": \"\"}}, \"type\": \"histogram\"}], \"histogram2d\": [{\"colorbar\": {\"outlinewidth\": 0, \"ticks\": \"\"}, \"colorscale\": [[0.0, \"#0d0887\"], [0.1111111111111111, \"#46039f\"], [0.2222222222222222, \"#7201a8\"], [0.3333333333333333, \"#9c179e\"], [0.4444444444444444, \"#bd3786\"], [0.5555555555555556, \"#d8576b\"], [0.6666666666666666, \"#ed7953\"], [0.7777777777777778, \"#fb9f3a\"], [0.8888888888888888, \"#fdca26\"], [1.0, \"#f0f921\"]], \"type\": \"histogram2d\"}], \"histogram2dcontour\": [{\"colorbar\": {\"outlinewidth\": 0, \"ticks\": \"\"}, \"colorscale\": [[0.0, \"#0d0887\"], [0.1111111111111111, \"#46039f\"], [0.2222222222222222, \"#7201a8\"], [0.3333333333333333, \"#9c179e\"], [0.4444444444444444, \"#bd3786\"], [0.5555555555555556, \"#d8576b\"], [0.6666666666666666, \"#ed7953\"], [0.7777777777777778, \"#fb9f3a\"], [0.8888888888888888, \"#fdca26\"], [1.0, \"#f0f921\"]], \"type\": \"histogram2dcontour\"}], \"mesh3d\": [{\"colorbar\": {\"outlinewidth\": 0, \"ticks\": \"\"}, \"type\": \"mesh3d\"}], \"parcoords\": [{\"line\": {\"colorbar\": {\"outlinewidth\": 0, \"ticks\": \"\"}}, \"type\": \"parcoords\"}], \"pie\": [{\"automargin\": true, \"type\": \"pie\"}], \"scatter\": [{\"marker\": {\"colorbar\": {\"outlinewidth\": 0, \"ticks\": \"\"}}, \"type\": \"scatter\"}], \"scatter3d\": [{\"line\": {\"colorbar\": {\"outlinewidth\": 0, \"ticks\": \"\"}}, \"marker\": {\"colorbar\": {\"outlinewidth\": 0, \"ticks\": \"\"}}, \"type\": \"scatter3d\"}], \"scattercarpet\": [{\"marker\": {\"colorbar\": {\"outlinewidth\": 0, \"ticks\": \"\"}}, \"type\": \"scattercarpet\"}], \"scattergeo\": [{\"marker\": {\"colorbar\": {\"outlinewidth\": 0, \"ticks\": \"\"}}, \"type\": \"scattergeo\"}], \"scattergl\": [{\"marker\": {\"colorbar\": {\"outlinewidth\": 0, \"ticks\": \"\"}}, \"type\": \"scattergl\"}], \"scattermapbox\": [{\"marker\": {\"colorbar\": {\"outlinewidth\": 0, \"ticks\": \"\"}}, \"type\": \"scattermapbox\"}], \"scatterpolar\": [{\"marker\": {\"colorbar\": {\"outlinewidth\": 0, \"ticks\": \"\"}}, \"type\": \"scatterpolar\"}], \"scatterpolargl\": [{\"marker\": {\"colorbar\": {\"outlinewidth\": 0, \"ticks\": \"\"}}, \"type\": \"scatterpolargl\"}], \"scatterternary\": [{\"marker\": {\"colorbar\": {\"outlinewidth\": 0, \"ticks\": \"\"}}, \"type\": \"scatterternary\"}], \"surface\": [{\"colorbar\": {\"outlinewidth\": 0, \"ticks\": \"\"}, \"colorscale\": [[0.0, \"#0d0887\"], [0.1111111111111111, \"#46039f\"], [0.2222222222222222, \"#7201a8\"], [0.3333333333333333, \"#9c179e\"], [0.4444444444444444, \"#bd3786\"], [0.5555555555555556, \"#d8576b\"], [0.6666666666666666, \"#ed7953\"], [0.7777777777777778, \"#fb9f3a\"], [0.8888888888888888, \"#fdca26\"], [1.0, \"#f0f921\"]], \"type\": \"surface\"}], \"table\": [{\"cells\": {\"fill\": {\"color\": \"#EBF0F8\"}, \"line\": {\"color\": \"white\"}}, \"header\": {\"fill\": {\"color\": \"#C8D4E3\"}, \"line\": {\"color\": \"white\"}}, \"type\": \"table\"}]}, \"layout\": {\"annotationdefaults\": {\"arrowcolor\": \"#2a3f5f\", \"arrowhead\": 0, \"arrowwidth\": 1}, \"coloraxis\": {\"colorbar\": {\"outlinewidth\": 0, \"ticks\": \"\"}}, \"colorscale\": {\"diverging\": [[0, \"#8e0152\"], [0.1, \"#c51b7d\"], [0.2, \"#de77ae\"], [0.3, \"#f1b6da\"], [0.4, \"#fde0ef\"], [0.5, \"#f7f7f7\"], [0.6, \"#e6f5d0\"], [0.7, \"#b8e186\"], [0.8, \"#7fbc41\"], [0.9, \"#4d9221\"], [1, \"#276419\"]], \"sequential\": [[0.0, \"#0d0887\"], [0.1111111111111111, \"#46039f\"], [0.2222222222222222, \"#7201a8\"], [0.3333333333333333, \"#9c179e\"], [0.4444444444444444, \"#bd3786\"], [0.5555555555555556, \"#d8576b\"], [0.6666666666666666, \"#ed7953\"], [0.7777777777777778, \"#fb9f3a\"], [0.8888888888888888, \"#fdca26\"], [1.0, \"#f0f921\"]], \"sequentialminus\": [[0.0, \"#0d0887\"], [0.1111111111111111, \"#46039f\"], [0.2222222222222222, \"#7201a8\"], [0.3333333333333333, \"#9c179e\"], [0.4444444444444444, \"#bd3786\"], [0.5555555555555556, \"#d8576b\"], [0.6666666666666666, \"#ed7953\"], [0.7777777777777778, \"#fb9f3a\"], [0.8888888888888888, \"#fdca26\"], [1.0, \"#f0f921\"]]}, \"colorway\": [\"#636efa\", \"#EF553B\", \"#00cc96\", \"#ab63fa\", \"#FFA15A\", \"#19d3f3\", \"#FF6692\", \"#B6E880\", \"#FF97FF\", \"#FECB52\"], \"font\": {\"color\": \"#2a3f5f\"}, \"geo\": {\"bgcolor\": \"white\", \"lakecolor\": \"white\", \"landcolor\": \"#E5ECF6\", \"showlakes\": true, \"showland\": true, \"subunitcolor\": \"white\"}, \"hoverlabel\": {\"align\": \"left\"}, \"hovermode\": \"closest\", \"mapbox\": {\"style\": \"light\"}, \"paper_bgcolor\": \"white\", \"plot_bgcolor\": \"#E5ECF6\", \"polar\": {\"angularaxis\": {\"gridcolor\": \"white\", \"linecolor\": \"white\", \"ticks\": \"\"}, \"bgcolor\": \"#E5ECF6\", \"radialaxis\": {\"gridcolor\": \"white\", \"linecolor\": \"white\", \"ticks\": \"\"}}, \"scene\": {\"xaxis\": {\"backgroundcolor\": \"#E5ECF6\", \"gridcolor\": \"white\", \"gridwidth\": 2, \"linecolor\": \"white\", \"showbackground\": true, \"ticks\": \"\", \"zerolinecolor\": \"white\"}, \"yaxis\": {\"backgroundcolor\": \"#E5ECF6\", \"gridcolor\": \"white\", \"gridwidth\": 2, \"linecolor\": \"white\", \"showbackground\": true, \"ticks\": \"\", \"zerolinecolor\": \"white\"}, \"zaxis\": {\"backgroundcolor\": \"#E5ECF6\", \"gridcolor\": \"white\", \"gridwidth\": 2, \"linecolor\": \"white\", \"showbackground\": true, \"ticks\": \"\", \"zerolinecolor\": \"white\"}}, \"shapedefaults\": {\"line\": {\"color\": \"#2a3f5f\"}}, \"ternary\": {\"aaxis\": {\"gridcolor\": \"white\", \"linecolor\": \"white\", \"ticks\": \"\"}, \"baxis\": {\"gridcolor\": \"white\", \"linecolor\": \"white\", \"ticks\": \"\"}, \"bgcolor\": \"#E5ECF6\", \"caxis\": {\"gridcolor\": \"white\", \"linecolor\": \"white\", \"ticks\": \"\"}}, \"title\": {\"x\": 0.05}, \"xaxis\": {\"automargin\": true, \"gridcolor\": \"white\", \"linecolor\": \"white\", \"ticks\": \"\", \"title\": {\"standoff\": 15}, \"zerolinecolor\": \"white\", \"zerolinewidth\": 2}, \"yaxis\": {\"automargin\": true, \"gridcolor\": \"white\", \"linecolor\": \"white\", \"ticks\": \"\", \"title\": {\"standoff\": 15}, \"zerolinecolor\": \"white\", \"zerolinewidth\": 2}}}, \"title\": {\"text\": \"Parking Zone Count & Avg. Monthly Cost per District in Istanbul\"}},\n",
       "                        {\"responsive\": true}\n",
       "                    ).then(function(){\n",
       "                            \n",
       "var gd = document.getElementById('952ff3cf-d05a-48c2-b74c-8896ff309127');\n",
       "var x = new MutationObserver(function (mutations, observer) {{\n",
       "        var display = window.getComputedStyle(gd).display;\n",
       "        if (!display || display === 'none') {{\n",
       "            console.log([gd, 'removed!']);\n",
       "            Plotly.purge(gd);\n",
       "            observer.disconnect();\n",
       "        }}\n",
       "}});\n",
       "\n",
       "// Listen for the removal of the full notebook cells\n",
       "var notebookContainer = gd.closest('#notebook-container');\n",
       "if (notebookContainer) {{\n",
       "    x.observe(notebookContainer, {childList: true});\n",
       "}}\n",
       "\n",
       "// Listen for the clearing of the current output cell\n",
       "var outputEl = gd.closest('.output');\n",
       "if (outputEl) {{\n",
       "    x.observe(outputEl, {childList: true});\n",
       "}}\n",
       "\n",
       "                        })\n",
       "                };\n",
       "                });\n",
       "            </script>\n",
       "        </div>"
      ]
     },
     "metadata": {},
     "output_type": "display_data"
    }
   ],
   "source": [
    "# Parking zone count per side \n",
    "side_name = df.groupby(\"bölge\")[\"lokasyon_id\"].count().sort_values(ascending=False).index\n",
    "side_park_count = df.groupby(\"bölge\")[\"lokasyon_id\"].count().sort_values(ascending=False).values\n",
    "\n",
    "# Avg monthly subscription cost per side \n",
    "side_name_cost = df.groupby(\"bölge\")[\"aylık_abonelik_ücreti\"].mean().round(0).sort_values(ascending=False).index\n",
    "side_avg_cost = df.groupby(\"bölge\")[\"aylık_abonelik_ücreti\"].mean().round(0).sort_values(ascending=False).values\n",
    "\n",
    "\n",
    "colors = [\"#316395\", \"#B6E880\"]\n",
    "fig = make_subplots(rows=1, cols=2, specs = [[{'type':'domain'}, {'type':'domain'}]])\n",
    "\n",
    "fig.add_trace(go.Pie(labels=side_name, values=side_park_count, textinfo='label+value',\n",
    "                             insidetextorientation='radial', hole=.42,\n",
    "                             marker=dict(colors=colors, line=dict(color='#000000', width=2))\n",
    "                            ),row=1, col=1)\n",
    "\n",
    "fig.add_trace(go.Pie(labels=side_name_cost, values=side_avg_cost, textinfo='label+value',\n",
    "                             insidetextorientation='radial', hole=.42,\n",
    "                             marker=dict(colors=colors, line=dict(color='#000000', width=2))\n",
    "                            ), row=1, col=2)\n",
    "fig.update_layout(\n",
    "\n",
    "    title = \"Parking Zone Count & Avg. Monthly Cost per District in Istanbul\",\n",
    "    legend=dict(\n",
    "        x=0.45,\n",
    "        y=-0.1,\n",
    "        traceorder=\"normal\",\n",
    "        font=dict(\n",
    "            family=\"sans-serif\",\n",
    "            size=12,\n",
    "            color=\"black\"\n",
    "        ),\n",
    "        bgcolor=\"White\",\n",
    "        bordercolor=\"Black\",\n",
    "        borderwidth=1\n",
    "    ),\n",
    "    \n",
    "    annotations=[dict(text='Parking Point Count', x=0.146, y=0.51, font_size=13, showarrow=False),\n",
    "                 dict(text='Avg. Subscrp. Cost', x=0.855, y=0.51, font_size=13, showarrow=False)]\n",
    ")\n",
    "\n",
    "fig.show()"
   ]
  },
  {
   "cell_type": "markdown",
   "metadata": {},
   "source": [
    "### Outcome\n",
    "***\n",
    "Apparently, European Side of Istanbul have 2x of parking zones in comparison to Anatolian Side and the parking zones in European Side are expensive than Anatolian Side considering monthly subscription cost."
   ]
  },
  {
   "cell_type": "markdown",
   "metadata": {},
   "source": [
    "### 3.3 - District Comparison Analysis by Parking Zone Count and Monthly Subscription Cost"
   ]
  },
  {
   "cell_type": "code",
   "execution_count": 108,
   "metadata": {},
   "outputs": [],
   "source": [
    "# Split data into sides of Istanbul to illustrate district's number of parking zone and\n",
    "# average monthly subscription cost\n",
    "\n",
    "df_avp = df[df[\"bölge\"]==\"Avrupa\"]\n",
    "df_and = df[df[\"bölge\"]==\"Anadolu\"]\n",
    "\n",
    "# European Side dataframe creation\n",
    "avp_location = df_avp.groupby(\"i̇lçe\")[\"lokasyon_id\"].count().index\n",
    "avp_count = df_avp.groupby(\"i̇lçe\")[\"lokasyon_id\"].count().values\n",
    "avp_cost = df_avp.groupby(\"i̇lçe\")[\"aylık_abonelik_ücreti\"].mean().round(0).values\n",
    "df_avp_final = pd.DataFrame({\"location\": avp_location, \"park_count\": avp_count, \"park_avg_monthly_cost\":avp_cost})\n",
    "\n",
    "# Anatolian Side dataframe creation\n",
    "and_location = df_and.groupby(\"i̇lçe\")[\"lokasyon_id\"].count().index\n",
    "and_count = df_and.groupby(\"i̇lçe\")[\"lokasyon_id\"].count().values\n",
    "and_cost = df_and.groupby(\"i̇lçe\")[\"aylık_abonelik_ücreti\"].mean().round(0).values\n",
    "df_and_final = pd.DataFrame({\"location\": and_location, \"park_count\": and_count, \"park_avg_monthly_cost\":and_cost})"
   ]
  },
  {
   "cell_type": "code",
   "execution_count": 109,
   "metadata": {},
   "outputs": [
    {
     "data": {
      "image/png": "[encoded data removed]",
      "text/plain": [
       "<Figure size 1440x576 with 1 Axes>"
      ]
     },
     "metadata": {
      "needs_background": "light"
     },
     "output_type": "display_data"
    }
   ],
   "source": [
    "# Anatolian Side district parking zone count and cost breakdown\n",
    "fig, ax = plt.subplots(figsize=(20,8))\n",
    "\n",
    "x = np.arange(len(df_and_final[\"location\"]))\n",
    "width = 0.40 # width of bar\n",
    "\n",
    "xs = df_and_final[\"location\"]\n",
    "ys_1 = df_and_final[\"park_count\"]\n",
    "ys_2 = df_and_final[\"park_avg_monthly_cost\"]\n",
    "\n",
    "\n",
    "ax.bar(x, ys_1, color= \"indianred\", align='center', width=width, label=\"Park Count\")\n",
    "ax.bar(x + width , ys_2, color= \"darkblue\", align='center', width=width, label=\"Avg. Monthly Cost\")\n",
    "\n",
    "ax.set_title(\"Istanbul Anatolian Side Car Park Count and Cost Breakdown\")\n",
    "ax.set_xlabel('District')\n",
    "ax.set_ylabel('Count / Cost')\n",
    "\n",
    "ax.set_xticklabels(xs)\n",
    "ax.set_xticks(x + width)\n",
    "ax.tick_params(rotation=45)\n",
    "\n",
    "# Annotation link: https://stackoverflow.com/questions/43554521/add-data-label-to-grouped-bar-chart-in-matplotlib\n",
    "for p in ax.patches[1:]:\n",
    "    h = p.get_height()\n",
    "    x = p.get_x()+p.get_width()/2.\n",
    "    if h != 0:\n",
    "        ax.annotate(\"%g\" % p.get_height(), xy=(x,h), xytext=(0,4), \n",
    "                   textcoords=\"offset points\", ha=\"center\", va=\"bottom\")\n",
    "\n",
    "ax.legend(loc=\"upper right\", fontsize=\"large\")\n",
    "plt.show()"
   ]
  },
  {
   "cell_type": "markdown",
   "metadata": {},
   "source": [
    "### Outcome\n",
    "***\n",
    "\n",
    "As we seen on the above graph, Kadıköy leads in number of parking zone in Anatolian side with 54 different parking zones. Sultanbeyli, Tuzla and Maltepe have limited number of parking zones. <br>\n",
    "Although only 2 parking zones exist in Tuzla, they have the second most expensive monthly subscription cost. In Anatolian side, the most expensive parking zones are located in Ataşehir."
   ]
  },
  {
   "cell_type": "code",
   "execution_count": 110,
   "metadata": {},
   "outputs": [
    {
     "data": {
      "image/png": "[encoded data removed]",
      "text/plain": [
       "<Figure size 1440x576 with 1 Axes>"
      ]
     },
     "metadata": {
      "needs_background": "light"
     },
     "output_type": "display_data"
    }
   ],
   "source": [
    "# European Side district parking zone count and cost breakdown\n",
    "\n",
    "fig, ax = plt.subplots(figsize=(20,8))\n",
    "\n",
    "x = np.arange(len(df_avp_final[\"location\"]))\n",
    "width = 0.40 # width of bar\n",
    "\n",
    "xs = df_avp_final[\"location\"]\n",
    "ys_1 = df_avp_final[\"park_count\"]\n",
    "ys_2 = df_avp_final[\"park_avg_monthly_cost\"]\n",
    "\n",
    "\n",
    "ax.bar(x, ys_1, color= \"indianred\", align='center', width=width, label=\"Park Count\")\n",
    "ax.bar(x + width , ys_2, color= \"darkblue\", align='center', width=width, label=\"Avg. Monthly Cost\")\n",
    "\n",
    "ax.set_title(\"Istanbul European Side Car Park Count and Cost Breakdown\")\n",
    "ax.set_xlabel('District')\n",
    "ax.set_ylabel('Count / Cost')\n",
    "\n",
    "ax.set_xticklabels(xs)\n",
    "ax.set_xticks(x + width)\n",
    "ax.tick_params(rotation=45)\n",
    "\n",
    "# Annotation link: https://stackoverflow.com/questions/43554521/add-data-label-to-grouped-bar-chart-in-matplotlib\n",
    "for p in ax.patches[1:]:\n",
    "    h = p.get_height()\n",
    "    x = p.get_x()+p.get_width()/2.\n",
    "    if h != 0:\n",
    "        ax.annotate(\"%g\" % p.get_height(), xy=(x,h), xytext=(0,4), \n",
    "                   textcoords=\"offset points\", ha=\"center\", va=\"bottom\")\n",
    "\n",
    "ax.legend(loc=\"upper left\", fontsize=\"large\")\n",
    "plt.show()"
   ]
  },
  {
   "cell_type": "markdown",
   "metadata": {},
   "source": [
    "### Outcome\n",
    "***\n",
    "\n",
    "Fatih, Beyoğlu, Şişli leads the graph with over 70 different parking zones. <br>\n",
    "Regarding the monthly subscription cost, the most expensive parking zones are in Beşiktaş, Bahçelievler and Sultangazi.  "
   ]
  },
  {
   "cell_type": "markdown",
   "metadata": {},
   "source": [
    "### Live Status of Parking Zones (29-July-2020 / 17:27 TR Time)"
   ]
  },
  {
   "cell_type": "code",
   "execution_count": 111,
   "metadata": {},
   "outputs": [],
   "source": [
    "\"\"\"\n",
    "Get API Request to IBB Data Center to extract live status of parking zones.\n",
    "\"\"\"\n",
    "\n",
    "import requests\n",
    "r = requests.get(\"https://api.ibb.gov.tr/ispark/Park\")\n",
    "df_live = pd.DataFrame.from_dict(r.json())"
   ]
  },
  {
   "cell_type": "code",
   "execution_count": 112,
   "metadata": {},
   "outputs": [],
   "source": [
    "df_live.columns = df_live.columns.str.replace(\" \", \"_\")\n",
    "df_live.columns = map(str.lower, df_live.columns)\n",
    "df_live.drop_duplicates(subset=\"parkadi\", keep=\"first\", inplace=True)"
   ]
  },
  {
   "cell_type": "code",
   "execution_count": 113,
   "metadata": {},
   "outputs": [
    {
     "data": {
      "text/html": [
       "<div>\n",
       "<style scoped>\n",
       "    .dataframe tbody tr th:only-of-type {\n",
       "        vertical-align: middle;\n",
       "    }\n",
       "\n",
       "    .dataframe tbody tr th {\n",
       "        vertical-align: top;\n",
       "    }\n",
       "\n",
       "    .dataframe thead th {\n",
       "        text-align: right;\n",
       "    }\n",
       "</style>\n",
       "<table border=\"1\" class=\"dataframe\">\n",
       "  <thead>\n",
       "    <tr style=\"text-align: right;\">\n",
       "      <th></th>\n",
       "      <th>parkid</th>\n",
       "      <th>parkadi</th>\n",
       "      <th>latitude</th>\n",
       "      <th>longitude</th>\n",
       "      <th>kapasitesi</th>\n",
       "      <th>boskapasite</th>\n",
       "      <th>parktipi</th>\n",
       "      <th>ilce</th>\n",
       "      <th>distance</th>\n",
       "      <th>ucretsizparklanmadk</th>\n",
       "    </tr>\n",
       "  </thead>\n",
       "  <tbody>\n",
       "    <tr>\n",
       "      <td>0</td>\n",
       "      <td>395</td>\n",
       "      <td>Yeşil Vadi Sokak 4</td>\n",
       "      <td>40.9670716467854</td>\n",
       "      <td>29.1058243767132</td>\n",
       "      <td>40</td>\n",
       "      <td>29</td>\n",
       "      <td>YOL ÜSTÜ</td>\n",
       "      <td>ATAŞEHİR</td>\n",
       "      <td>0.372</td>\n",
       "      <td>15</td>\n",
       "    </tr>\n",
       "    <tr>\n",
       "      <td>1</td>\n",
       "      <td>1189</td>\n",
       "      <td>İçerenköy Açık Otoparkı 1</td>\n",
       "      <td>40.9765973901075</td>\n",
       "      <td>29.1045454144478</td>\n",
       "      <td>600</td>\n",
       "      <td>600</td>\n",
       "      <td>AÇIK OTOPARK</td>\n",
       "      <td>ATAŞEHİR</td>\n",
       "      <td>0.696</td>\n",
       "      <td>15</td>\n",
       "    </tr>\n",
       "    <tr>\n",
       "      <td>2</td>\n",
       "      <td>2151</td>\n",
       "      <td>Bostancı Vergi Dairesi Açık Otoparkı</td>\n",
       "      <td>40.9625308244579</td>\n",
       "      <td>29.1079999343615</td>\n",
       "      <td>105</td>\n",
       "      <td>105</td>\n",
       "      <td>AÇIK OTOPARK</td>\n",
       "      <td>ATAŞEHİR</td>\n",
       "      <td>0.907</td>\n",
       "      <td>0</td>\n",
       "    </tr>\n",
       "    <tr>\n",
       "      <td>4</td>\n",
       "      <td>1176</td>\n",
       "      <td>Kozyatağı Sebze-Meyve Hali</td>\n",
       "      <td>40.978484297008</td>\n",
       "      <td>29.1029469575332</td>\n",
       "      <td>1500</td>\n",
       "      <td>1500</td>\n",
       "      <td>AÇIK OTOPARK</td>\n",
       "      <td>ATAŞEHİR</td>\n",
       "      <td>0.918</td>\n",
       "      <td>0</td>\n",
       "    </tr>\n",
       "    <tr>\n",
       "      <td>5</td>\n",
       "      <td>1208</td>\n",
       "      <td>Bostancı İdo ve Adalar İskelesi Önü Taksi Durağı</td>\n",
       "      <td>40.952526073751</td>\n",
       "      <td>29.0937899011629</td>\n",
       "      <td>16</td>\n",
       "      <td>16</td>\n",
       "      <td>TAKSİ PARK</td>\n",
       "      <td>KADIKÖY</td>\n",
       "      <td>2.180</td>\n",
       "      <td>0</td>\n",
       "    </tr>\n",
       "  </tbody>\n",
       "</table>\n",
       "</div>"
      ],
      "text/plain": [
       "   parkid                                           parkadi          latitude  \\\n",
       "0     395                                Yeşil Vadi Sokak 4  40.9670716467854   \n",
       "1    1189                         İçerenköy Açık Otoparkı 1  40.9765973901075   \n",
       "2    2151              Bostancı Vergi Dairesi Açık Otoparkı  40.9625308244579   \n",
       "4    1176                        Kozyatağı Sebze-Meyve Hali   40.978484297008   \n",
       "5    1208  Bostancı İdo ve Adalar İskelesi Önü Taksi Durağı   40.952526073751   \n",
       "\n",
       "          longitude  kapasitesi  boskapasite      parktipi      ilce  \\\n",
       "0  29.1058243767132          40           29      YOL ÜSTÜ  ATAŞEHİR   \n",
       "1  29.1045454144478         600          600  AÇIK OTOPARK  ATAŞEHİR   \n",
       "2  29.1079999343615         105          105  AÇIK OTOPARK  ATAŞEHİR   \n",
       "4  29.1029469575332        1500         1500  AÇIK OTOPARK  ATAŞEHİR   \n",
       "5  29.0937899011629          16           16    TAKSİ PARK   KADIKÖY   \n",
       "\n",
       "   distance  ucretsizparklanmadk  \n",
       "0     0.372                   15  \n",
       "1     0.696                   15  \n",
       "2     0.907                    0  \n",
       "4     0.918                    0  \n",
       "5     2.180                    0  "
      ]
     },
     "execution_count": 113,
     "metadata": {},
     "output_type": "execute_result"
    }
   ],
   "source": [
    "# Check whether everything is OK\n",
    "\n",
    "df_live.head()"
   ]
  },
  {
   "cell_type": "code",
   "execution_count": 114,
   "metadata": {},
   "outputs": [],
   "source": [
    "# Calculate %Utilization & in use capacity per parking zone\n",
    "\n",
    "df_live[\"utilization\"] = (100 - (round((df_live[\"boskapasite\"] / df_live[\"kapasitesi\"])*100,0)))\n",
    "df_live[\"in_use_capacity\"] = df_live[\"kapasitesi\"] - df_live[\"boskapasite\"]"
   ]
  },
  {
   "cell_type": "code",
   "execution_count": 115,
   "metadata": {},
   "outputs": [
    {
     "data": {
      "text/html": [
       "<div>\n",
       "<style scoped>\n",
       "    .dataframe tbody tr th:only-of-type {\n",
       "        vertical-align: middle;\n",
       "    }\n",
       "\n",
       "    .dataframe tbody tr th {\n",
       "        vertical-align: top;\n",
       "    }\n",
       "\n",
       "    .dataframe thead th {\n",
       "        text-align: right;\n",
       "    }\n",
       "</style>\n",
       "<table border=\"1\" class=\"dataframe\">\n",
       "  <thead>\n",
       "    <tr style=\"text-align: right;\">\n",
       "      <th></th>\n",
       "      <th>parkid</th>\n",
       "      <th>parkadi</th>\n",
       "      <th>latitude</th>\n",
       "      <th>longitude</th>\n",
       "      <th>kapasitesi</th>\n",
       "      <th>boskapasite</th>\n",
       "      <th>parktipi</th>\n",
       "      <th>ilce</th>\n",
       "      <th>distance</th>\n",
       "      <th>ucretsizparklanmadk</th>\n",
       "      <th>utilization</th>\n",
       "      <th>in_use_capacity</th>\n",
       "    </tr>\n",
       "  </thead>\n",
       "  <tbody>\n",
       "    <tr>\n",
       "      <td>0</td>\n",
       "      <td>395</td>\n",
       "      <td>Yeşil Vadi Sokak 4</td>\n",
       "      <td>40.9670716467854</td>\n",
       "      <td>29.1058243767132</td>\n",
       "      <td>40</td>\n",
       "      <td>29</td>\n",
       "      <td>YOL ÜSTÜ</td>\n",
       "      <td>ATAŞEHİR</td>\n",
       "      <td>0.372</td>\n",
       "      <td>15</td>\n",
       "      <td>28.0</td>\n",
       "      <td>11</td>\n",
       "    </tr>\n",
       "    <tr>\n",
       "      <td>1</td>\n",
       "      <td>1189</td>\n",
       "      <td>İçerenköy Açık Otoparkı 1</td>\n",
       "      <td>40.9765973901075</td>\n",
       "      <td>29.1045454144478</td>\n",
       "      <td>600</td>\n",
       "      <td>600</td>\n",
       "      <td>AÇIK OTOPARK</td>\n",
       "      <td>ATAŞEHİR</td>\n",
       "      <td>0.696</td>\n",
       "      <td>15</td>\n",
       "      <td>0.0</td>\n",
       "      <td>0</td>\n",
       "    </tr>\n",
       "    <tr>\n",
       "      <td>2</td>\n",
       "      <td>2151</td>\n",
       "      <td>Bostancı Vergi Dairesi Açık Otoparkı</td>\n",
       "      <td>40.9625308244579</td>\n",
       "      <td>29.1079999343615</td>\n",
       "      <td>105</td>\n",
       "      <td>105</td>\n",
       "      <td>AÇIK OTOPARK</td>\n",
       "      <td>ATAŞEHİR</td>\n",
       "      <td>0.907</td>\n",
       "      <td>0</td>\n",
       "      <td>0.0</td>\n",
       "      <td>0</td>\n",
       "    </tr>\n",
       "    <tr>\n",
       "      <td>4</td>\n",
       "      <td>1176</td>\n",
       "      <td>Kozyatağı Sebze-Meyve Hali</td>\n",
       "      <td>40.978484297008</td>\n",
       "      <td>29.1029469575332</td>\n",
       "      <td>1500</td>\n",
       "      <td>1500</td>\n",
       "      <td>AÇIK OTOPARK</td>\n",
       "      <td>ATAŞEHİR</td>\n",
       "      <td>0.918</td>\n",
       "      <td>0</td>\n",
       "      <td>0.0</td>\n",
       "      <td>0</td>\n",
       "    </tr>\n",
       "    <tr>\n",
       "      <td>5</td>\n",
       "      <td>1208</td>\n",
       "      <td>Bostancı İdo ve Adalar İskelesi Önü Taksi Durağı</td>\n",
       "      <td>40.952526073751</td>\n",
       "      <td>29.0937899011629</td>\n",
       "      <td>16</td>\n",
       "      <td>16</td>\n",
       "      <td>TAKSİ PARK</td>\n",
       "      <td>KADIKÖY</td>\n",
       "      <td>2.180</td>\n",
       "      <td>0</td>\n",
       "      <td>0.0</td>\n",
       "      <td>0</td>\n",
       "    </tr>\n",
       "  </tbody>\n",
       "</table>\n",
       "</div>"
      ],
      "text/plain": [
       "   parkid                                           parkadi          latitude  \\\n",
       "0     395                                Yeşil Vadi Sokak 4  40.9670716467854   \n",
       "1    1189                         İçerenköy Açık Otoparkı 1  40.9765973901075   \n",
       "2    2151              Bostancı Vergi Dairesi Açık Otoparkı  40.9625308244579   \n",
       "4    1176                        Kozyatağı Sebze-Meyve Hali   40.978484297008   \n",
       "5    1208  Bostancı İdo ve Adalar İskelesi Önü Taksi Durağı   40.952526073751   \n",
       "\n",
       "          longitude  kapasitesi  boskapasite      parktipi      ilce  \\\n",
       "0  29.1058243767132          40           29      YOL ÜSTÜ  ATAŞEHİR   \n",
       "1  29.1045454144478         600          600  AÇIK OTOPARK  ATAŞEHİR   \n",
       "2  29.1079999343615         105          105  AÇIK OTOPARK  ATAŞEHİR   \n",
       "4  29.1029469575332        1500         1500  AÇIK OTOPARK  ATAŞEHİR   \n",
       "5  29.0937899011629          16           16    TAKSİ PARK   KADIKÖY   \n",
       "\n",
       "   distance  ucretsizparklanmadk  utilization  in_use_capacity  \n",
       "0     0.372                   15         28.0               11  \n",
       "1     0.696                   15          0.0                0  \n",
       "2     0.907                    0          0.0                0  \n",
       "4     0.918                    0          0.0                0  \n",
       "5     2.180                    0          0.0                0  "
      ]
     },
     "execution_count": 115,
     "metadata": {},
     "output_type": "execute_result"
    }
   ],
   "source": [
    "# Check whether everything is OK\n",
    "\n",
    "df_live.head()"
   ]
  },
  {
   "cell_type": "markdown",
   "metadata": {},
   "source": [
    "### 3.4 - In Use Capacity, Utilization and Overall Capacity Analysis per District"
   ]
  },
  {
   "cell_type": "code",
   "execution_count": 116,
   "metadata": {},
   "outputs": [
    {
     "data": {
      "text/html": [
       "<style  type=\"text/css\" >\n",
       "    #T_938e9e34_d1a7_11ea_aa46_94f6d61f3bferow0_col1 {\n",
       "            background-color:  #08306b;\n",
       "            color:  #f1f1f1;\n",
       "        }    #T_938e9e34_d1a7_11ea_aa46_94f6d61f3bferow0_col2 {\n",
       "            background-color:  #edf4fc;\n",
       "            color:  #000000;\n",
       "        }    #T_938e9e34_d1a7_11ea_aa46_94f6d61f3bferow0_col3 {\n",
       "            background-color:  #f2f8fd;\n",
       "            color:  #000000;\n",
       "        }    #T_938e9e34_d1a7_11ea_aa46_94f6d61f3bferow1_col1 {\n",
       "            background-color:  #7db8da;\n",
       "            color:  #000000;\n",
       "        }    #T_938e9e34_d1a7_11ea_aa46_94f6d61f3bferow1_col2 {\n",
       "            background-color:  #4191c6;\n",
       "            color:  #000000;\n",
       "        }    #T_938e9e34_d1a7_11ea_aa46_94f6d61f3bferow1_col3 {\n",
       "            background-color:  #bfd8ed;\n",
       "            color:  #000000;\n",
       "        }    #T_938e9e34_d1a7_11ea_aa46_94f6d61f3bferow2_col1 {\n",
       "            background-color:  #99c7e0;\n",
       "            color:  #000000;\n",
       "        }    #T_938e9e34_d1a7_11ea_aa46_94f6d61f3bferow2_col2 {\n",
       "            background-color:  #1e6db2;\n",
       "            color:  #f1f1f1;\n",
       "        }    #T_938e9e34_d1a7_11ea_aa46_94f6d61f3bferow2_col3 {\n",
       "            background-color:  #99c7e0;\n",
       "            color:  #000000;\n",
       "        }    #T_938e9e34_d1a7_11ea_aa46_94f6d61f3bferow3_col1 {\n",
       "            background-color:  #9cc9e1;\n",
       "            color:  #000000;\n",
       "        }    #T_938e9e34_d1a7_11ea_aa46_94f6d61f3bferow3_col2 {\n",
       "            background-color:  #d8e7f5;\n",
       "            color:  #000000;\n",
       "        }    #T_938e9e34_d1a7_11ea_aa46_94f6d61f3bferow3_col3 {\n",
       "            background-color:  #e2edf8;\n",
       "            color:  #000000;\n",
       "        }    #T_938e9e34_d1a7_11ea_aa46_94f6d61f3bferow4_col1 {\n",
       "            background-color:  #9dcae1;\n",
       "            color:  #000000;\n",
       "        }    #T_938e9e34_d1a7_11ea_aa46_94f6d61f3bferow4_col2 {\n",
       "            background-color:  #d7e6f5;\n",
       "            color:  #000000;\n",
       "        }    #T_938e9e34_d1a7_11ea_aa46_94f6d61f3bferow4_col3 {\n",
       "            background-color:  #deebf7;\n",
       "            color:  #000000;\n",
       "        }    #T_938e9e34_d1a7_11ea_aa46_94f6d61f3bferow5_col1 {\n",
       "            background-color:  #a3cce3;\n",
       "            color:  #000000;\n",
       "        }    #T_938e9e34_d1a7_11ea_aa46_94f6d61f3bferow5_col2 {\n",
       "            background-color:  #f2f7fd;\n",
       "            color:  #000000;\n",
       "        }    #T_938e9e34_d1a7_11ea_aa46_94f6d61f3bferow5_col3 {\n",
       "            background-color:  #f4f9fe;\n",
       "            color:  #000000;\n",
       "        }    #T_938e9e34_d1a7_11ea_aa46_94f6d61f3bferow6_col1 {\n",
       "            background-color:  #b5d4e9;\n",
       "            color:  #000000;\n",
       "        }    #T_938e9e34_d1a7_11ea_aa46_94f6d61f3bferow6_col2 {\n",
       "            background-color:  #a8cee4;\n",
       "            color:  #000000;\n",
       "        }    #T_938e9e34_d1a7_11ea_aa46_94f6d61f3bferow6_col3 {\n",
       "            background-color:  #cadef0;\n",
       "            color:  #000000;\n",
       "        }    #T_938e9e34_d1a7_11ea_aa46_94f6d61f3bferow7_col1 {\n",
       "            background-color:  #b7d4ea;\n",
       "            color:  #000000;\n",
       "        }    #T_938e9e34_d1a7_11ea_aa46_94f6d61f3bferow7_col2 {\n",
       "            background-color:  #bfd8ed;\n",
       "            color:  #000000;\n",
       "        }    #T_938e9e34_d1a7_11ea_aa46_94f6d61f3bferow7_col3 {\n",
       "            background-color:  #c2d9ee;\n",
       "            color:  #000000;\n",
       "        }    #T_938e9e34_d1a7_11ea_aa46_94f6d61f3bferow8_col1 {\n",
       "            background-color:  #c6dbef;\n",
       "            color:  #000000;\n",
       "        }    #T_938e9e34_d1a7_11ea_aa46_94f6d61f3bferow8_col2 {\n",
       "            background-color:  #d4e4f4;\n",
       "            color:  #000000;\n",
       "        }    #T_938e9e34_d1a7_11ea_aa46_94f6d61f3bferow8_col3 {\n",
       "            background-color:  #d6e6f4;\n",
       "            color:  #000000;\n",
       "        }    #T_938e9e34_d1a7_11ea_aa46_94f6d61f3bferow9_col1 {\n",
       "            background-color:  #c7dbef;\n",
       "            color:  #000000;\n",
       "        }    #T_938e9e34_d1a7_11ea_aa46_94f6d61f3bferow9_col2 {\n",
       "            background-color:  #eef5fc;\n",
       "            color:  #000000;\n",
       "        }    #T_938e9e34_d1a7_11ea_aa46_94f6d61f3bferow9_col3 {\n",
       "            background-color:  #eaf2fb;\n",
       "            color:  #000000;\n",
       "        }    #T_938e9e34_d1a7_11ea_aa46_94f6d61f3bferow10_col1 {\n",
       "            background-color:  #c7dcef;\n",
       "            color:  #000000;\n",
       "        }    #T_938e9e34_d1a7_11ea_aa46_94f6d61f3bferow10_col2 {\n",
       "            background-color:  #08306b;\n",
       "            color:  #f1f1f1;\n",
       "        }    #T_938e9e34_d1a7_11ea_aa46_94f6d61f3bferow10_col3 {\n",
       "            background-color:  #08306b;\n",
       "            color:  #f1f1f1;\n",
       "        }    #T_938e9e34_d1a7_11ea_aa46_94f6d61f3bferow11_col1 {\n",
       "            background-color:  #cadef0;\n",
       "            color:  #000000;\n",
       "        }    #T_938e9e34_d1a7_11ea_aa46_94f6d61f3bferow11_col2 {\n",
       "            background-color:  #eaf3fb;\n",
       "            color:  #000000;\n",
       "        }    #T_938e9e34_d1a7_11ea_aa46_94f6d61f3bferow11_col3 {\n",
       "            background-color:  #d0e2f2;\n",
       "            color:  #000000;\n",
       "        }    #T_938e9e34_d1a7_11ea_aa46_94f6d61f3bferow12_col1 {\n",
       "            background-color:  #cfe1f2;\n",
       "            color:  #000000;\n",
       "        }    #T_938e9e34_d1a7_11ea_aa46_94f6d61f3bferow12_col2 {\n",
       "            background-color:  #d2e3f3;\n",
       "            color:  #000000;\n",
       "        }    #T_938e9e34_d1a7_11ea_aa46_94f6d61f3bferow12_col3 {\n",
       "            background-color:  #9fcae1;\n",
       "            color:  #000000;\n",
       "        }    #T_938e9e34_d1a7_11ea_aa46_94f6d61f3bferow13_col1 {\n",
       "            background-color:  #d1e2f3;\n",
       "            color:  #000000;\n",
       "        }    #T_938e9e34_d1a7_11ea_aa46_94f6d61f3bferow13_col2 {\n",
       "            background-color:  #c1d9ed;\n",
       "            color:  #000000;\n",
       "        }    #T_938e9e34_d1a7_11ea_aa46_94f6d61f3bferow13_col3 {\n",
       "            background-color:  #c2d9ee;\n",
       "            color:  #000000;\n",
       "        }    #T_938e9e34_d1a7_11ea_aa46_94f6d61f3bferow14_col1 {\n",
       "            background-color:  #d1e2f3;\n",
       "            color:  #000000;\n",
       "        }    #T_938e9e34_d1a7_11ea_aa46_94f6d61f3bferow14_col2 {\n",
       "            background-color:  #deebf7;\n",
       "            color:  #000000;\n",
       "        }    #T_938e9e34_d1a7_11ea_aa46_94f6d61f3bferow14_col3 {\n",
       "            background-color:  #e7f0fa;\n",
       "            color:  #000000;\n",
       "        }    #T_938e9e34_d1a7_11ea_aa46_94f6d61f3bferow15_col1 {\n",
       "            background-color:  #d2e3f3;\n",
       "            color:  #000000;\n",
       "        }    #T_938e9e34_d1a7_11ea_aa46_94f6d61f3bferow15_col2 {\n",
       "            background-color:  #81badb;\n",
       "            color:  #000000;\n",
       "        }    #T_938e9e34_d1a7_11ea_aa46_94f6d61f3bferow15_col3 {\n",
       "            background-color:  #82bbdb;\n",
       "            color:  #000000;\n",
       "        }    #T_938e9e34_d1a7_11ea_aa46_94f6d61f3bferow16_col1 {\n",
       "            background-color:  #ecf4fb;\n",
       "            color:  #000000;\n",
       "        }    #T_938e9e34_d1a7_11ea_aa46_94f6d61f3bferow16_col2 {\n",
       "            background-color:  #c4daee;\n",
       "            color:  #000000;\n",
       "        }    #T_938e9e34_d1a7_11ea_aa46_94f6d61f3bferow16_col3 {\n",
       "            background-color:  #99c7e0;\n",
       "            color:  #000000;\n",
       "        }    #T_938e9e34_d1a7_11ea_aa46_94f6d61f3bferow17_col1 {\n",
       "            background-color:  #f2f8fd;\n",
       "            color:  #000000;\n",
       "        }    #T_938e9e34_d1a7_11ea_aa46_94f6d61f3bferow17_col2 {\n",
       "            background-color:  #d0e2f2;\n",
       "            color:  #000000;\n",
       "        }    #T_938e9e34_d1a7_11ea_aa46_94f6d61f3bferow17_col3 {\n",
       "            background-color:  #a3cce3;\n",
       "            color:  #000000;\n",
       "        }    #T_938e9e34_d1a7_11ea_aa46_94f6d61f3bferow18_col1 {\n",
       "            background-color:  #f5f9fe;\n",
       "            color:  #000000;\n",
       "        }    #T_938e9e34_d1a7_11ea_aa46_94f6d61f3bferow18_col2 {\n",
       "            background-color:  #e9f2fa;\n",
       "            color:  #000000;\n",
       "        }    #T_938e9e34_d1a7_11ea_aa46_94f6d61f3bferow18_col3 {\n",
       "            background-color:  #e4eff9;\n",
       "            color:  #000000;\n",
       "        }    #T_938e9e34_d1a7_11ea_aa46_94f6d61f3bferow19_col1 {\n",
       "            background-color:  #f7fbff;\n",
       "            color:  #000000;\n",
       "        }    #T_938e9e34_d1a7_11ea_aa46_94f6d61f3bferow19_col2 {\n",
       "            background-color:  #f7fbff;\n",
       "            color:  #000000;\n",
       "        }    #T_938e9e34_d1a7_11ea_aa46_94f6d61f3bferow19_col3 {\n",
       "            background-color:  #f7fbff;\n",
       "            color:  #000000;\n",
       "        }</style><table id=\"T_938e9e34_d1a7_11ea_aa46_94f6d61f3bfe\" ><thead>    <tr>        <th class=\"blank level0\" ></th>        <th class=\"col_heading level0 col0\" >location</th>        <th class=\"col_heading level0 col1\" >avg_utilization</th>        <th class=\"col_heading level0 col2\" >in_use</th>        <th class=\"col_heading level0 col3\" >total_capacity</th>    </tr></thead><tbody>\n",
       "                <tr>\n",
       "                        <th id=\"T_938e9e34_d1a7_11ea_aa46_94f6d61f3bfelevel0_row0\" class=\"row_heading level0 row0\" >0</th>\n",
       "                        <td id=\"T_938e9e34_d1a7_11ea_aa46_94f6d61f3bferow0_col0\" class=\"data row0 col0\" >SULTANBEYLİ</td>\n",
       "                        <td id=\"T_938e9e34_d1a7_11ea_aa46_94f6d61f3bferow0_col1\" class=\"data row0 col1\" >73</td>\n",
       "                        <td id=\"T_938e9e34_d1a7_11ea_aa46_94f6d61f3bferow0_col2\" class=\"data row0 col2\" >282</td>\n",
       "                        <td id=\"T_938e9e34_d1a7_11ea_aa46_94f6d61f3bferow0_col3\" class=\"data row0 col3\" >430</td>\n",
       "            </tr>\n",
       "            <tr>\n",
       "                        <th id=\"T_938e9e34_d1a7_11ea_aa46_94f6d61f3bfelevel0_row1\" class=\"row_heading level0 row1\" >1</th>\n",
       "                        <td id=\"T_938e9e34_d1a7_11ea_aa46_94f6d61f3bferow1_col0\" class=\"data row1 col0\" >BAYRAMPAŞA</td>\n",
       "                        <td id=\"T_938e9e34_d1a7_11ea_aa46_94f6d61f3bferow1_col1\" class=\"data row1 col1\" >48.5</td>\n",
       "                        <td id=\"T_938e9e34_d1a7_11ea_aa46_94f6d61f3bferow1_col2\" class=\"data row1 col2\" >3073</td>\n",
       "                        <td id=\"T_938e9e34_d1a7_11ea_aa46_94f6d61f3bferow1_col3\" class=\"data row1 col3\" >4252</td>\n",
       "            </tr>\n",
       "            <tr>\n",
       "                        <th id=\"T_938e9e34_d1a7_11ea_aa46_94f6d61f3bfelevel0_row2\" class=\"row_heading level0 row2\" >2</th>\n",
       "                        <td id=\"T_938e9e34_d1a7_11ea_aa46_94f6d61f3bferow2_col0\" class=\"data row2 col0\" >KADIKÖY</td>\n",
       "                        <td id=\"T_938e9e34_d1a7_11ea_aa46_94f6d61f3bferow2_col1\" class=\"data row2 col1\" >45.5</td>\n",
       "                        <td id=\"T_938e9e34_d1a7_11ea_aa46_94f6d61f3bferow2_col2\" class=\"data row2 col2\" >3741</td>\n",
       "                        <td id=\"T_938e9e34_d1a7_11ea_aa46_94f6d61f3bferow2_col3\" class=\"data row2 col3\" >6090</td>\n",
       "            </tr>\n",
       "            <tr>\n",
       "                        <th id=\"T_938e9e34_d1a7_11ea_aa46_94f6d61f3bfelevel0_row3\" class=\"row_heading level0 row3\" >3</th>\n",
       "                        <td id=\"T_938e9e34_d1a7_11ea_aa46_94f6d61f3bferow3_col0\" class=\"data row3 col0\" >ESENLER</td>\n",
       "                        <td id=\"T_938e9e34_d1a7_11ea_aa46_94f6d61f3bferow3_col1\" class=\"data row3 col1\" >45.2</td>\n",
       "                        <td id=\"T_938e9e34_d1a7_11ea_aa46_94f6d61f3bferow3_col2\" class=\"data row3 col2\" >782</td>\n",
       "                        <td id=\"T_938e9e34_d1a7_11ea_aa46_94f6d61f3bferow3_col3\" class=\"data row3 col3\" >1694</td>\n",
       "            </tr>\n",
       "            <tr>\n",
       "                        <th id=\"T_938e9e34_d1a7_11ea_aa46_94f6d61f3bfelevel0_row4\" class=\"row_heading level0 row4\" >4</th>\n",
       "                        <td id=\"T_938e9e34_d1a7_11ea_aa46_94f6d61f3bferow4_col0\" class=\"data row4 col0\" >KARTAL</td>\n",
       "                        <td id=\"T_938e9e34_d1a7_11ea_aa46_94f6d61f3bferow4_col1\" class=\"data row4 col1\" >45</td>\n",
       "                        <td id=\"T_938e9e34_d1a7_11ea_aa46_94f6d61f3bferow4_col2\" class=\"data row4 col2\" >797</td>\n",
       "                        <td id=\"T_938e9e34_d1a7_11ea_aa46_94f6d61f3bferow4_col3\" class=\"data row4 col3\" >2014</td>\n",
       "            </tr>\n",
       "            <tr>\n",
       "                        <th id=\"T_938e9e34_d1a7_11ea_aa46_94f6d61f3bfelevel0_row5\" class=\"row_heading level0 row5\" >5</th>\n",
       "                        <td id=\"T_938e9e34_d1a7_11ea_aa46_94f6d61f3bferow5_col0\" class=\"data row5 col0\" >BAŞAKŞEHİR</td>\n",
       "                        <td id=\"T_938e9e34_d1a7_11ea_aa46_94f6d61f3bferow5_col1\" class=\"data row5 col1\" >44.2</td>\n",
       "                        <td id=\"T_938e9e34_d1a7_11ea_aa46_94f6d61f3bferow5_col2\" class=\"data row5 col2\" >155</td>\n",
       "                        <td id=\"T_938e9e34_d1a7_11ea_aa46_94f6d61f3bferow5_col3\" class=\"data row5 col3\" >355</td>\n",
       "            </tr>\n",
       "            <tr>\n",
       "                        <th id=\"T_938e9e34_d1a7_11ea_aa46_94f6d61f3bfelevel0_row6\" class=\"row_heading level0 row6\" >6</th>\n",
       "                        <td id=\"T_938e9e34_d1a7_11ea_aa46_94f6d61f3bferow6_col0\" class=\"data row6 col0\" >BEYOĞLU</td>\n",
       "                        <td id=\"T_938e9e34_d1a7_11ea_aa46_94f6d61f3bferow6_col1\" class=\"data row6 col1\" >41.7</td>\n",
       "                        <td id=\"T_938e9e34_d1a7_11ea_aa46_94f6d61f3bferow6_col2\" class=\"data row6 col2\" >1701</td>\n",
       "                        <td id=\"T_938e9e34_d1a7_11ea_aa46_94f6d61f3bferow6_col3\" class=\"data row6 col3\" >3616</td>\n",
       "            </tr>\n",
       "            <tr>\n",
       "                        <th id=\"T_938e9e34_d1a7_11ea_aa46_94f6d61f3bfelevel0_row7\" class=\"row_heading level0 row7\" >7</th>\n",
       "                        <td id=\"T_938e9e34_d1a7_11ea_aa46_94f6d61f3bferow7_col0\" class=\"data row7 col0\" >ŞİŞLİ</td>\n",
       "                        <td id=\"T_938e9e34_d1a7_11ea_aa46_94f6d61f3bferow7_col1\" class=\"data row7 col1\" >41.5</td>\n",
       "                        <td id=\"T_938e9e34_d1a7_11ea_aa46_94f6d61f3bferow7_col2\" class=\"data row7 col2\" >1345</td>\n",
       "                        <td id=\"T_938e9e34_d1a7_11ea_aa46_94f6d61f3bferow7_col3\" class=\"data row7 col3\" >4118</td>\n",
       "            </tr>\n",
       "            <tr>\n",
       "                        <th id=\"T_938e9e34_d1a7_11ea_aa46_94f6d61f3bfelevel0_row8\" class=\"row_heading level0 row8\" >8</th>\n",
       "                        <td id=\"T_938e9e34_d1a7_11ea_aa46_94f6d61f3bferow8_col0\" class=\"data row8 col0\" >ÜSKÜDAR</td>\n",
       "                        <td id=\"T_938e9e34_d1a7_11ea_aa46_94f6d61f3bferow8_col1\" class=\"data row8 col1\" >39.3</td>\n",
       "                        <td id=\"T_938e9e34_d1a7_11ea_aa46_94f6d61f3bferow8_col2\" class=\"data row8 col2\" >881</td>\n",
       "                        <td id=\"T_938e9e34_d1a7_11ea_aa46_94f6d61f3bferow8_col3\" class=\"data row8 col3\" >2624</td>\n",
       "            </tr>\n",
       "            <tr>\n",
       "                        <th id=\"T_938e9e34_d1a7_11ea_aa46_94f6d61f3bfelevel0_row9\" class=\"row_heading level0 row9\" >9</th>\n",
       "                        <td id=\"T_938e9e34_d1a7_11ea_aa46_94f6d61f3bferow9_col0\" class=\"data row9 col0\" >BEYKOZ</td>\n",
       "                        <td id=\"T_938e9e34_d1a7_11ea_aa46_94f6d61f3bferow9_col1\" class=\"data row9 col1\" >39.2</td>\n",
       "                        <td id=\"T_938e9e34_d1a7_11ea_aa46_94f6d61f3bferow9_col2\" class=\"data row9 col2\" >261</td>\n",
       "                        <td id=\"T_938e9e34_d1a7_11ea_aa46_94f6d61f3bferow9_col3\" class=\"data row9 col3\" >1103</td>\n",
       "            </tr>\n",
       "            <tr>\n",
       "                        <th id=\"T_938e9e34_d1a7_11ea_aa46_94f6d61f3bfelevel0_row10\" class=\"row_heading level0 row10\" >10</th>\n",
       "                        <td id=\"T_938e9e34_d1a7_11ea_aa46_94f6d61f3bferow10_col0\" class=\"data row10 col0\" >EYÜP</td>\n",
       "                        <td id=\"T_938e9e34_d1a7_11ea_aa46_94f6d61f3bferow10_col1\" class=\"data row10 col1\" >38.9</td>\n",
       "                        <td id=\"T_938e9e34_d1a7_11ea_aa46_94f6d61f3bferow10_col2\" class=\"data row10 col2\" >4883</td>\n",
       "                        <td id=\"T_938e9e34_d1a7_11ea_aa46_94f6d61f3bferow10_col3\" class=\"data row10 col3\" >15527</td>\n",
       "            </tr>\n",
       "            <tr>\n",
       "                        <th id=\"T_938e9e34_d1a7_11ea_aa46_94f6d61f3bfelevel0_row11\" class=\"row_heading level0 row11\" >11</th>\n",
       "                        <td id=\"T_938e9e34_d1a7_11ea_aa46_94f6d61f3bferow11_col0\" class=\"data row11 col0\" >KAĞITHANE</td>\n",
       "                        <td id=\"T_938e9e34_d1a7_11ea_aa46_94f6d61f3bferow11_col1\" class=\"data row11 col1\" >38.3</td>\n",
       "                        <td id=\"T_938e9e34_d1a7_11ea_aa46_94f6d61f3bferow11_col2\" class=\"data row11 col2\" >333</td>\n",
       "                        <td id=\"T_938e9e34_d1a7_11ea_aa46_94f6d61f3bferow11_col3\" class=\"data row11 col3\" >3103</td>\n",
       "            </tr>\n",
       "            <tr>\n",
       "                        <th id=\"T_938e9e34_d1a7_11ea_aa46_94f6d61f3bfelevel0_row12\" class=\"row_heading level0 row12\" >12</th>\n",
       "                        <td id=\"T_938e9e34_d1a7_11ea_aa46_94f6d61f3bferow12_col0\" class=\"data row12 col0\" >BEŞİKTAŞ</td>\n",
       "                        <td id=\"T_938e9e34_d1a7_11ea_aa46_94f6d61f3bferow12_col1\" class=\"data row12 col1\" >37.2</td>\n",
       "                        <td id=\"T_938e9e34_d1a7_11ea_aa46_94f6d61f3bferow12_col2\" class=\"data row12 col2\" >939</td>\n",
       "                        <td id=\"T_938e9e34_d1a7_11ea_aa46_94f6d61f3bferow12_col3\" class=\"data row12 col3\" >5816</td>\n",
       "            </tr>\n",
       "            <tr>\n",
       "                        <th id=\"T_938e9e34_d1a7_11ea_aa46_94f6d61f3bfelevel0_row13\" class=\"row_heading level0 row13\" >13</th>\n",
       "                        <td id=\"T_938e9e34_d1a7_11ea_aa46_94f6d61f3bferow13_col0\" class=\"data row13 col0\" >PENDİK</td>\n",
       "                        <td id=\"T_938e9e34_d1a7_11ea_aa46_94f6d61f3bferow13_col1\" class=\"data row13 col1\" >36.7</td>\n",
       "                        <td id=\"T_938e9e34_d1a7_11ea_aa46_94f6d61f3bferow13_col2\" class=\"data row13 col2\" >1312</td>\n",
       "                        <td id=\"T_938e9e34_d1a7_11ea_aa46_94f6d61f3bferow13_col3\" class=\"data row13 col3\" >4138</td>\n",
       "            </tr>\n",
       "            <tr>\n",
       "                        <th id=\"T_938e9e34_d1a7_11ea_aa46_94f6d61f3bfelevel0_row14\" class=\"row_heading level0 row14\" >14</th>\n",
       "                        <td id=\"T_938e9e34_d1a7_11ea_aa46_94f6d61f3bferow14_col0\" class=\"data row14 col0\" >ÜMRANİYE</td>\n",
       "                        <td id=\"T_938e9e34_d1a7_11ea_aa46_94f6d61f3bferow14_col1\" class=\"data row14 col1\" >36.7</td>\n",
       "                        <td id=\"T_938e9e34_d1a7_11ea_aa46_94f6d61f3bferow14_col2\" class=\"data row14 col2\" >629</td>\n",
       "                        <td id=\"T_938e9e34_d1a7_11ea_aa46_94f6d61f3bferow14_col3\" class=\"data row14 col3\" >1375</td>\n",
       "            </tr>\n",
       "            <tr>\n",
       "                        <th id=\"T_938e9e34_d1a7_11ea_aa46_94f6d61f3bfelevel0_row15\" class=\"row_heading level0 row15\" >15</th>\n",
       "                        <td id=\"T_938e9e34_d1a7_11ea_aa46_94f6d61f3bferow15_col0\" class=\"data row15 col0\" >FATİH</td>\n",
       "                        <td id=\"T_938e9e34_d1a7_11ea_aa46_94f6d61f3bferow15_col1\" class=\"data row15 col1\" >36.6</td>\n",
       "                        <td id=\"T_938e9e34_d1a7_11ea_aa46_94f6d61f3bferow15_col2\" class=\"data row15 col2\" >2194</td>\n",
       "                        <td id=\"T_938e9e34_d1a7_11ea_aa46_94f6d61f3bferow15_col3\" class=\"data row15 col3\" >6924</td>\n",
       "            </tr>\n",
       "            <tr>\n",
       "                        <th id=\"T_938e9e34_d1a7_11ea_aa46_94f6d61f3bfelevel0_row16\" class=\"row_heading level0 row16\" >16</th>\n",
       "                        <td id=\"T_938e9e34_d1a7_11ea_aa46_94f6d61f3bferow16_col0\" class=\"data row16 col0\" >ZEYTİNBURNU</td>\n",
       "                        <td id=\"T_938e9e34_d1a7_11ea_aa46_94f6d61f3bferow16_col1\" class=\"data row16 col1\" >30.5</td>\n",
       "                        <td id=\"T_938e9e34_d1a7_11ea_aa46_94f6d61f3bferow16_col2\" class=\"data row16 col2\" >1268</td>\n",
       "                        <td id=\"T_938e9e34_d1a7_11ea_aa46_94f6d61f3bferow16_col3\" class=\"data row16 col3\" >6055</td>\n",
       "            </tr>\n",
       "            <tr>\n",
       "                        <th id=\"T_938e9e34_d1a7_11ea_aa46_94f6d61f3bfelevel0_row17\" class=\"row_heading level0 row17\" >17</th>\n",
       "                        <td id=\"T_938e9e34_d1a7_11ea_aa46_94f6d61f3bferow17_col0\" class=\"data row17 col0\" >BAKIRKÖY</td>\n",
       "                        <td id=\"T_938e9e34_d1a7_11ea_aa46_94f6d61f3bferow17_col1\" class=\"data row17 col1\" >29.2</td>\n",
       "                        <td id=\"T_938e9e34_d1a7_11ea_aa46_94f6d61f3bferow17_col2\" class=\"data row17 col2\" >982</td>\n",
       "                        <td id=\"T_938e9e34_d1a7_11ea_aa46_94f6d61f3bferow17_col3\" class=\"data row17 col3\" >5627</td>\n",
       "            </tr>\n",
       "            <tr>\n",
       "                        <th id=\"T_938e9e34_d1a7_11ea_aa46_94f6d61f3bfelevel0_row18\" class=\"row_heading level0 row18\" >18</th>\n",
       "                        <td id=\"T_938e9e34_d1a7_11ea_aa46_94f6d61f3bferow18_col0\" class=\"data row18 col0\" >BEYLİKDÜZÜ</td>\n",
       "                        <td id=\"T_938e9e34_d1a7_11ea_aa46_94f6d61f3bferow18_col1\" class=\"data row18 col1\" >28.7</td>\n",
       "                        <td id=\"T_938e9e34_d1a7_11ea_aa46_94f6d61f3bferow18_col2\" class=\"data row18 col2\" >362</td>\n",
       "                        <td id=\"T_938e9e34_d1a7_11ea_aa46_94f6d61f3bferow18_col3\" class=\"data row18 col3\" >1570</td>\n",
       "            </tr>\n",
       "            <tr>\n",
       "                        <th id=\"T_938e9e34_d1a7_11ea_aa46_94f6d61f3bfelevel0_row19\" class=\"row_heading level0 row19\" >19</th>\n",
       "                        <td id=\"T_938e9e34_d1a7_11ea_aa46_94f6d61f3bferow19_col0\" class=\"data row19 col0\" >GAZİOSMANPAŞA</td>\n",
       "                        <td id=\"T_938e9e34_d1a7_11ea_aa46_94f6d61f3bferow19_col1\" class=\"data row19 col1\" >28</td>\n",
       "                        <td id=\"T_938e9e34_d1a7_11ea_aa46_94f6d61f3bferow19_col2\" class=\"data row19 col2\" >17</td>\n",
       "                        <td id=\"T_938e9e34_d1a7_11ea_aa46_94f6d61f3bferow19_col3\" class=\"data row19 col3\" >60</td>\n",
       "            </tr>\n",
       "    </tbody></table>"
      ],
      "text/plain": [
       "<pandas.io.formats.style.Styler at 0x7fe4ec2b4390>"
      ]
     },
     "execution_count": 116,
     "metadata": {},
     "output_type": "execute_result"
    }
   ],
   "source": [
    "# Create a dataset contains avg utilization, in use capacity and overall capacity per district\n",
    "\n",
    "df_district_capacity = pd.DataFrame({\"location\":df_live.groupby(\"ilce\")[\"kapasitesi\"].sum().index,\n",
    "                                    \"total_capacity\":df_live.groupby(\"ilce\")[\"kapasitesi\"].sum().values})\n",
    "\n",
    "df_district_in_use_capacity = pd.DataFrame({\"location\":df_live.groupby(\"ilce\")[\"in_use_capacity\"].sum().index,\n",
    "                                    \"in_use\":df_live.groupby(\"ilce\")[\"in_use_capacity\"].sum().values})\n",
    "\n",
    "df_district = pd.DataFrame({\"location\":df_live.groupby(\"ilce\")[\"utilization\"].mean().sort_values(ascending=False).index,\n",
    "                            \"avg_utilization\": round(df_live.groupby(\"ilce\")[\"utilization\"].mean(),1).sort_values(ascending=False).values}\n",
    "                          )\n",
    "\n",
    "df_district = df_district.merge(df_district_in_use_capacity, on=\"location\")\n",
    "df_district = df_district.merge(df_district_capacity, on=\"location\")\n",
    "df_district.head(20).style.background_gradient(cmap='Blues')"
   ]
  },
  {
   "cell_type": "markdown",
   "metadata": {},
   "source": [
    "### Outcome\n",
    "***\n",
    "\n",
    "As of 29-July-2020 / 16:30 TR Time, although there is no overload observed regarding utilization at the momen but Sultangazi is a potential one. <br>\n",
    "Utilization can / should be deeply investigated by repeating above analysis on different times of a day. Since today is weekday and in the working hours, depending just this data might mislead us from that reason we should collect more data in order to determine utilization status. Nevertheless, above graph is a good snapshot of a weekday night !"
   ]
  },
  {
   "cell_type": "markdown",
   "metadata": {},
   "source": [
    "### 3.5 - Free Stopping Distribution"
   ]
  },
  {
   "cell_type": "code",
   "execution_count": 117,
   "metadata": {},
   "outputs": [
    {
     "data": {
      "application/vnd.plotly.v1+json": {
       "config": {
        "plotlyServerURL": "https://plot.ly"
       },
       "data": [
        {
         "hovertext": [
          15,
          0,
          5,
          10,
          30,
          60,
          20,
          120
         ],
         "marker": {
          "color": "#D62728",
          "line": {
           "color": "black",
           "width": 1.5
          }
         },
         "opacity": 0.65,
         "text": [
          402,
          132,
          25,
          14,
          4,
          2,
          2,
          1
         ],
         "textposition": "outside",
         "type": "bar",
         "x": [
          15,
          0,
          5,
          10,
          30,
          60,
          20,
          120
         ],
         "y": [
          402,
          132,
          25,
          14,
          4,
          2,
          2,
          1
         ]
        }
       ],
       "layout": {
        "legend": {
         "orientation": "h"
        },
        "template": {
         "data": {
          "bar": [
           {
            "error_x": {
             "color": "#2a3f5f"
            },
            "error_y": {
             "color": "#2a3f5f"
            },
            "marker": {
             "line": {
              "color": "#E5ECF6",
              "width": 0.5
             }
            },
            "type": "bar"
           }
          ],
          "barpolar": [
           {
            "marker": {
             "line": {
              "color": "#E5ECF6",
              "width": 0.5
             }
            },
            "type": "barpolar"
           }
          ],
          "carpet": [
           {
            "aaxis": {
             "endlinecolor": "#2a3f5f",
             "gridcolor": "white",
             "linecolor": "white",
             "minorgridcolor": "white",
             "startlinecolor": "#2a3f5f"
            },
            "baxis": {
             "endlinecolor": "#2a3f5f",
             "gridcolor": "white",
             "linecolor": "white",
             "minorgridcolor": "white",
             "startlinecolor": "#2a3f5f"
            },
            "type": "carpet"
           }
          ],
          "choropleth": [
           {
            "colorbar": {
             "outlinewidth": 0,
             "ticks": ""
            },
            "type": "choropleth"
           }
          ],
          "contour": [
           {
            "colorbar": {
             "outlinewidth": 0,
             "ticks": ""
            },
            "colorscale": [
             [
              0,
              "#0d0887"
             ],
             [
              0.1111111111111111,
              "#46039f"
             ],
             [
              0.2222222222222222,
              "#7201a8"
             ],
             [
              0.3333333333333333,
              "#9c179e"
             ],
             [
              0.4444444444444444,
              "#bd3786"
             ],
             [
              0.5555555555555556,
              "#d8576b"
             ],
             [
              0.6666666666666666,
              "#ed7953"
             ],
             [
              0.7777777777777778,
              "#fb9f3a"
             ],
             [
              0.8888888888888888,
              "#fdca26"
             ],
             [
              1,
              "#f0f921"
             ]
            ],
            "type": "contour"
           }
          ],
          "contourcarpet": [
           {
            "colorbar": {
             "outlinewidth": 0,
             "ticks": ""
            },
            "type": "contourcarpet"
           }
          ],
          "heatmap": [
           {
            "colorbar": {
             "outlinewidth": 0,
             "ticks": ""
            },
            "colorscale": [
             [
              0,
              "#0d0887"
             ],
             [
              0.1111111111111111,
              "#46039f"
             ],
             [
              0.2222222222222222,
              "#7201a8"
             ],
             [
              0.3333333333333333,
              "#9c179e"
             ],
             [
              0.4444444444444444,
              "#bd3786"
             ],
             [
              0.5555555555555556,
              "#d8576b"
             ],
             [
              0.6666666666666666,
              "#ed7953"
             ],
             [
              0.7777777777777778,
              "#fb9f3a"
             ],
             [
              0.8888888888888888,
              "#fdca26"
             ],
             [
              1,
              "#f0f921"
             ]
            ],
            "type": "heatmap"
           }
          ],
          "heatmapgl": [
           {
            "colorbar": {
             "outlinewidth": 0,
             "ticks": ""
            },
            "colorscale": [
             [
              0,
              "#0d0887"
             ],
             [
              0.1111111111111111,
              "#46039f"
             ],
             [
              0.2222222222222222,
              "#7201a8"
             ],
             [
              0.3333333333333333,
              "#9c179e"
             ],
             [
              0.4444444444444444,
              "#bd3786"
             ],
             [
              0.5555555555555556,
              "#d8576b"
             ],
             [
              0.6666666666666666,
              "#ed7953"
             ],
             [
              0.7777777777777778,
              "#fb9f3a"
             ],
             [
              0.8888888888888888,
              "#fdca26"
             ],
             [
              1,
              "#f0f921"
             ]
            ],
            "type": "heatmapgl"
           }
          ],
          "histogram": [
           {
            "marker": {
             "colorbar": {
              "outlinewidth": 0,
              "ticks": ""
             }
            },
            "type": "histogram"
           }
          ],
          "histogram2d": [
           {
            "colorbar": {
             "outlinewidth": 0,
             "ticks": ""
            },
            "colorscale": [
             [
              0,
              "#0d0887"
             ],
             [
              0.1111111111111111,
              "#46039f"
             ],
             [
              0.2222222222222222,
              "#7201a8"
             ],
             [
              0.3333333333333333,
              "#9c179e"
             ],
             [
              0.4444444444444444,
              "#bd3786"
             ],
             [
              0.5555555555555556,
              "#d8576b"
             ],
             [
              0.6666666666666666,
              "#ed7953"
             ],
             [
              0.7777777777777778,
              "#fb9f3a"
             ],
             [
              0.8888888888888888,
              "#fdca26"
             ],
             [
              1,
              "#f0f921"
             ]
            ],
            "type": "histogram2d"
           }
          ],
          "histogram2dcontour": [
           {
            "colorbar": {
             "outlinewidth": 0,
             "ticks": ""
            },
            "colorscale": [
             [
              0,
              "#0d0887"
             ],
             [
              0.1111111111111111,
              "#46039f"
             ],
             [
              0.2222222222222222,
              "#7201a8"
             ],
             [
              0.3333333333333333,
              "#9c179e"
             ],
             [
              0.4444444444444444,
              "#bd3786"
             ],
             [
              0.5555555555555556,
              "#d8576b"
             ],
             [
              0.6666666666666666,
              "#ed7953"
             ],
             [
              0.7777777777777778,
              "#fb9f3a"
             ],
             [
              0.8888888888888888,
              "#fdca26"
             ],
             [
              1,
              "#f0f921"
             ]
            ],
            "type": "histogram2dcontour"
           }
          ],
          "mesh3d": [
           {
            "colorbar": {
             "outlinewidth": 0,
             "ticks": ""
            },
            "type": "mesh3d"
           }
          ],
          "parcoords": [
           {
            "line": {
             "colorbar": {
              "outlinewidth": 0,
              "ticks": ""
             }
            },
            "type": "parcoords"
           }
          ],
          "pie": [
           {
            "automargin": true,
            "type": "pie"
           }
          ],
          "scatter": [
           {
            "marker": {
             "colorbar": {
              "outlinewidth": 0,
              "ticks": ""
             }
            },
            "type": "scatter"
           }
          ],
          "scatter3d": [
           {
            "line": {
             "colorbar": {
              "outlinewidth": 0,
              "ticks": ""
             }
            },
            "marker": {
             "colorbar": {
              "outlinewidth": 0,
              "ticks": ""
             }
            },
            "type": "scatter3d"
           }
          ],
          "scattercarpet": [
           {
            "marker": {
             "colorbar": {
              "outlinewidth": 0,
              "ticks": ""
             }
            },
            "type": "scattercarpet"
           }
          ],
          "scattergeo": [
           {
            "marker": {
             "colorbar": {
              "outlinewidth": 0,
              "ticks": ""
             }
            },
            "type": "scattergeo"
           }
          ],
          "scattergl": [
           {
            "marker": {
             "colorbar": {
              "outlinewidth": 0,
              "ticks": ""
             }
            },
            "type": "scattergl"
           }
          ],
          "scattermapbox": [
           {
            "marker": {
             "colorbar": {
              "outlinewidth": 0,
              "ticks": ""
             }
            },
            "type": "scattermapbox"
           }
          ],
          "scatterpolar": [
           {
            "marker": {
             "colorbar": {
              "outlinewidth": 0,
              "ticks": ""
             }
            },
            "type": "scatterpolar"
           }
          ],
          "scatterpolargl": [
           {
            "marker": {
             "colorbar": {
              "outlinewidth": 0,
              "ticks": ""
             }
            },
            "type": "scatterpolargl"
           }
          ],
          "scatterternary": [
           {
            "marker": {
             "colorbar": {
              "outlinewidth": 0,
              "ticks": ""
             }
            },
            "type": "scatterternary"
           }
          ],
          "surface": [
           {
            "colorbar": {
             "outlinewidth": 0,
             "ticks": ""
            },
            "colorscale": [
             [
              0,
              "#0d0887"
             ],
             [
              0.1111111111111111,
              "#46039f"
             ],
             [
              0.2222222222222222,
              "#7201a8"
             ],
             [
              0.3333333333333333,
              "#9c179e"
             ],
             [
              0.4444444444444444,
              "#bd3786"
             ],
             [
              0.5555555555555556,
              "#d8576b"
             ],
             [
              0.6666666666666666,
              "#ed7953"
             ],
             [
              0.7777777777777778,
              "#fb9f3a"
             ],
             [
              0.8888888888888888,
              "#fdca26"
             ],
             [
              1,
              "#f0f921"
             ]
            ],
            "type": "surface"
           }
          ],
          "table": [
           {
            "cells": {
             "fill": {
              "color": "#EBF0F8"
             },
             "line": {
              "color": "white"
             }
            },
            "header": {
             "fill": {
              "color": "#C8D4E3"
             },
             "line": {
              "color": "white"
             }
            },
            "type": "table"
           }
          ]
         },
         "layout": {
          "annotationdefaults": {
           "arrowcolor": "#2a3f5f",
           "arrowhead": 0,
           "arrowwidth": 1
          },
          "coloraxis": {
           "colorbar": {
            "outlinewidth": 0,
            "ticks": ""
           }
          },
          "colorscale": {
           "diverging": [
            [
             0,
             "#8e0152"
            ],
            [
             0.1,
             "#c51b7d"
            ],
            [
             0.2,
             "#de77ae"
            ],
            [
             0.3,
             "#f1b6da"
            ],
            [
             0.4,
             "#fde0ef"
            ],
            [
             0.5,
             "#f7f7f7"
            ],
            [
             0.6,
             "#e6f5d0"
            ],
            [
             0.7,
             "#b8e186"
            ],
            [
             0.8,
             "#7fbc41"
            ],
            [
             0.9,
             "#4d9221"
            ],
            [
             1,
             "#276419"
            ]
           ],
           "sequential": [
            [
             0,
             "#0d0887"
            ],
            [
             0.1111111111111111,
             "#46039f"
            ],
            [
             0.2222222222222222,
             "#7201a8"
            ],
            [
             0.3333333333333333,
             "#9c179e"
            ],
            [
             0.4444444444444444,
             "#bd3786"
            ],
            [
             0.5555555555555556,
             "#d8576b"
            ],
            [
             0.6666666666666666,
             "#ed7953"
            ],
            [
             0.7777777777777778,
             "#fb9f3a"
            ],
            [
             0.8888888888888888,
             "#fdca26"
            ],
            [
             1,
             "#f0f921"
            ]
           ],
           "sequentialminus": [
            [
             0,
             "#0d0887"
            ],
            [
             0.1111111111111111,
             "#46039f"
            ],
            [
             0.2222222222222222,
             "#7201a8"
            ],
            [
             0.3333333333333333,
             "#9c179e"
            ],
            [
             0.4444444444444444,
             "#bd3786"
            ],
            [
             0.5555555555555556,
             "#d8576b"
            ],
            [
             0.6666666666666666,
             "#ed7953"
            ],
            [
             0.7777777777777778,
             "#fb9f3a"
            ],
            [
             0.8888888888888888,
             "#fdca26"
            ],
            [
             1,
             "#f0f921"
            ]
           ]
          },
          "colorway": [
           "#636efa",
           "#EF553B",
           "#00cc96",
           "#ab63fa",
           "#FFA15A",
           "#19d3f3",
           "#FF6692",
           "#B6E880",
           "#FF97FF",
           "#FECB52"
          ],
          "font": {
           "color": "#2a3f5f"
          },
          "geo": {
           "bgcolor": "white",
           "lakecolor": "white",
           "landcolor": "#E5ECF6",
           "showlakes": true,
           "showland": true,
           "subunitcolor": "white"
          },
          "hoverlabel": {
           "align": "left"
          },
          "hovermode": "closest",
          "mapbox": {
           "style": "light"
          },
          "paper_bgcolor": "white",
          "plot_bgcolor": "#E5ECF6",
          "polar": {
           "angularaxis": {
            "gridcolor": "white",
            "linecolor": "white",
            "ticks": ""
           },
           "bgcolor": "#E5ECF6",
           "radialaxis": {
            "gridcolor": "white",
            "linecolor": "white",
            "ticks": ""
           }
          },
          "scene": {
           "xaxis": {
            "backgroundcolor": "#E5ECF6",
            "gridcolor": "white",
            "gridwidth": 2,
            "linecolor": "white",
            "showbackground": true,
            "ticks": "",
            "zerolinecolor": "white"
           },
           "yaxis": {
            "backgroundcolor": "#E5ECF6",
            "gridcolor": "white",
            "gridwidth": 2,
            "linecolor": "white",
            "showbackground": true,
            "ticks": "",
            "zerolinecolor": "white"
           },
           "zaxis": {
            "backgroundcolor": "#E5ECF6",
            "gridcolor": "white",
            "gridwidth": 2,
            "linecolor": "white",
            "showbackground": true,
            "ticks": "",
            "zerolinecolor": "white"
           }
          },
          "shapedefaults": {
           "line": {
            "color": "#2a3f5f"
           }
          },
          "ternary": {
           "aaxis": {
            "gridcolor": "white",
            "linecolor": "white",
            "ticks": ""
           },
           "baxis": {
            "gridcolor": "white",
            "linecolor": "white",
            "ticks": ""
           },
           "bgcolor": "#E5ECF6",
           "caxis": {
            "gridcolor": "white",
            "linecolor": "white",
            "ticks": ""
           }
          },
          "title": {
           "x": 0.05
          },
          "xaxis": {
           "automargin": true,
           "gridcolor": "white",
           "linecolor": "white",
           "ticks": "",
           "title": {
            "standoff": 15
           },
           "zerolinecolor": "white",
           "zerolinewidth": 2
          },
          "yaxis": {
           "automargin": true,
           "gridcolor": "white",
           "linecolor": "white",
           "ticks": "",
           "title": {
            "standoff": 15
           },
           "zerolinecolor": "white",
           "zerolinewidth": 2
          }
         }
        },
        "title": {
         "text": "Free Parking Duration Breakdown"
        },
        "xaxis": {
         "dtick": 5,
         "tick0": 0,
         "title": {
          "text": "Free Parking Duration"
         }
        },
        "yaxis": {
         "title": {
          "text": "Count"
         }
        }
       }
      },
      "text/html": [
       "<div>\n",
       "        \n",
       "        \n",
       "            <div id=\"c2558e73-6684-455f-995e-53644d50b038\" class=\"plotly-graph-div\" style=\"height:525px; width:100%;\"></div>\n",
       "            <script type=\"text/javascript\">\n",
       "                require([\"plotly\"], function(Plotly) {\n",
       "                    window.PLOTLYENV=window.PLOTLYENV || {};\n",
       "                    \n",
       "                if (document.getElementById(\"c2558e73-6684-455f-995e-53644d50b038\")) {\n",
       "                    Plotly.newPlot(\n",
       "                        'c2558e73-6684-455f-995e-53644d50b038',\n",
       "                        [{\"hovertext\": [15.0, 0.0, 5.0, 10.0, 30.0, 60.0, 20.0, 120.0], \"marker\": {\"color\": \"#D62728\", \"line\": {\"color\": \"black\", \"width\": 1.5}}, \"opacity\": 0.65, \"text\": [402.0, 132.0, 25.0, 14.0, 4.0, 2.0, 2.0, 1.0], \"textposition\": \"outside\", \"type\": \"bar\", \"x\": [15, 0, 5, 10, 30, 60, 20, 120], \"y\": [402, 132, 25, 14, 4, 2, 2, 1]}],\n",
       "                        {\"legend\": {\"orientation\": \"h\"}, \"template\": {\"data\": {\"bar\": [{\"error_x\": {\"color\": \"#2a3f5f\"}, \"error_y\": {\"color\": \"#2a3f5f\"}, \"marker\": {\"line\": {\"color\": \"#E5ECF6\", \"width\": 0.5}}, \"type\": \"bar\"}], \"barpolar\": [{\"marker\": {\"line\": {\"color\": \"#E5ECF6\", \"width\": 0.5}}, \"type\": \"barpolar\"}], \"carpet\": [{\"aaxis\": {\"endlinecolor\": \"#2a3f5f\", \"gridcolor\": \"white\", \"linecolor\": \"white\", \"minorgridcolor\": \"white\", \"startlinecolor\": \"#2a3f5f\"}, \"baxis\": {\"endlinecolor\": \"#2a3f5f\", \"gridcolor\": \"white\", \"linecolor\": \"white\", \"minorgridcolor\": \"white\", \"startlinecolor\": \"#2a3f5f\"}, \"type\": \"carpet\"}], \"choropleth\": [{\"colorbar\": {\"outlinewidth\": 0, \"ticks\": \"\"}, \"type\": \"choropleth\"}], \"contour\": [{\"colorbar\": {\"outlinewidth\": 0, \"ticks\": \"\"}, \"colorscale\": [[0.0, \"#0d0887\"], [0.1111111111111111, \"#46039f\"], [0.2222222222222222, \"#7201a8\"], [0.3333333333333333, \"#9c179e\"], [0.4444444444444444, \"#bd3786\"], [0.5555555555555556, \"#d8576b\"], [0.6666666666666666, \"#ed7953\"], [0.7777777777777778, \"#fb9f3a\"], [0.8888888888888888, \"#fdca26\"], [1.0, \"#f0f921\"]], \"type\": \"contour\"}], \"contourcarpet\": [{\"colorbar\": {\"outlinewidth\": 0, \"ticks\": \"\"}, \"type\": \"contourcarpet\"}], \"heatmap\": [{\"colorbar\": {\"outlinewidth\": 0, \"ticks\": \"\"}, \"colorscale\": [[0.0, \"#0d0887\"], [0.1111111111111111, \"#46039f\"], [0.2222222222222222, \"#7201a8\"], [0.3333333333333333, \"#9c179e\"], [0.4444444444444444, \"#bd3786\"], [0.5555555555555556, \"#d8576b\"], [0.6666666666666666, \"#ed7953\"], [0.7777777777777778, \"#fb9f3a\"], [0.8888888888888888, \"#fdca26\"], [1.0, \"#f0f921\"]], \"type\": \"heatmap\"}], \"heatmapgl\": [{\"colorbar\": {\"outlinewidth\": 0, \"ticks\": \"\"}, \"colorscale\": [[0.0, \"#0d0887\"], [0.1111111111111111, \"#46039f\"], [0.2222222222222222, \"#7201a8\"], [0.3333333333333333, \"#9c179e\"], [0.4444444444444444, \"#bd3786\"], [0.5555555555555556, \"#d8576b\"], [0.6666666666666666, \"#ed7953\"], [0.7777777777777778, \"#fb9f3a\"], [0.8888888888888888, \"#fdca26\"], [1.0, \"#f0f921\"]], \"type\": \"heatmapgl\"}], \"histogram\": [{\"marker\": {\"colorbar\": {\"outlinewidth\": 0, \"ticks\": \"\"}}, \"type\": \"histogram\"}], \"histogram2d\": [{\"colorbar\": {\"outlinewidth\": 0, \"ticks\": \"\"}, \"colorscale\": [[0.0, \"#0d0887\"], [0.1111111111111111, \"#46039f\"], [0.2222222222222222, \"#7201a8\"], [0.3333333333333333, \"#9c179e\"], [0.4444444444444444, \"#bd3786\"], [0.5555555555555556, \"#d8576b\"], [0.6666666666666666, \"#ed7953\"], [0.7777777777777778, \"#fb9f3a\"], [0.8888888888888888, \"#fdca26\"], [1.0, \"#f0f921\"]], \"type\": \"histogram2d\"}], \"histogram2dcontour\": [{\"colorbar\": {\"outlinewidth\": 0, \"ticks\": \"\"}, \"colorscale\": [[0.0, \"#0d0887\"], [0.1111111111111111, \"#46039f\"], [0.2222222222222222, \"#7201a8\"], [0.3333333333333333, \"#9c179e\"], [0.4444444444444444, \"#bd3786\"], [0.5555555555555556, \"#d8576b\"], [0.6666666666666666, \"#ed7953\"], [0.7777777777777778, \"#fb9f3a\"], [0.8888888888888888, \"#fdca26\"], [1.0, \"#f0f921\"]], \"type\": \"histogram2dcontour\"}], \"mesh3d\": [{\"colorbar\": {\"outlinewidth\": 0, \"ticks\": \"\"}, \"type\": \"mesh3d\"}], \"parcoords\": [{\"line\": {\"colorbar\": {\"outlinewidth\": 0, \"ticks\": \"\"}}, \"type\": \"parcoords\"}], \"pie\": [{\"automargin\": true, \"type\": \"pie\"}], \"scatter\": [{\"marker\": {\"colorbar\": {\"outlinewidth\": 0, \"ticks\": \"\"}}, \"type\": \"scatter\"}], \"scatter3d\": [{\"line\": {\"colorbar\": {\"outlinewidth\": 0, \"ticks\": \"\"}}, \"marker\": {\"colorbar\": {\"outlinewidth\": 0, \"ticks\": \"\"}}, \"type\": \"scatter3d\"}], \"scattercarpet\": [{\"marker\": {\"colorbar\": {\"outlinewidth\": 0, \"ticks\": \"\"}}, \"type\": \"scattercarpet\"}], \"scattergeo\": [{\"marker\": {\"colorbar\": {\"outlinewidth\": 0, \"ticks\": \"\"}}, \"type\": \"scattergeo\"}], \"scattergl\": [{\"marker\": {\"colorbar\": {\"outlinewidth\": 0, \"ticks\": \"\"}}, \"type\": \"scattergl\"}], \"scattermapbox\": [{\"marker\": {\"colorbar\": {\"outlinewidth\": 0, \"ticks\": \"\"}}, \"type\": \"scattermapbox\"}], \"scatterpolar\": [{\"marker\": {\"colorbar\": {\"outlinewidth\": 0, \"ticks\": \"\"}}, \"type\": \"scatterpolar\"}], \"scatterpolargl\": [{\"marker\": {\"colorbar\": {\"outlinewidth\": 0, \"ticks\": \"\"}}, \"type\": \"scatterpolargl\"}], \"scatterternary\": [{\"marker\": {\"colorbar\": {\"outlinewidth\": 0, \"ticks\": \"\"}}, \"type\": \"scatterternary\"}], \"surface\": [{\"colorbar\": {\"outlinewidth\": 0, \"ticks\": \"\"}, \"colorscale\": [[0.0, \"#0d0887\"], [0.1111111111111111, \"#46039f\"], [0.2222222222222222, \"#7201a8\"], [0.3333333333333333, \"#9c179e\"], [0.4444444444444444, \"#bd3786\"], [0.5555555555555556, \"#d8576b\"], [0.6666666666666666, \"#ed7953\"], [0.7777777777777778, \"#fb9f3a\"], [0.8888888888888888, \"#fdca26\"], [1.0, \"#f0f921\"]], \"type\": \"surface\"}], \"table\": [{\"cells\": {\"fill\": {\"color\": \"#EBF0F8\"}, \"line\": {\"color\": \"white\"}}, \"header\": {\"fill\": {\"color\": \"#C8D4E3\"}, \"line\": {\"color\": \"white\"}}, \"type\": \"table\"}]}, \"layout\": {\"annotationdefaults\": {\"arrowcolor\": \"#2a3f5f\", \"arrowhead\": 0, \"arrowwidth\": 1}, \"coloraxis\": {\"colorbar\": {\"outlinewidth\": 0, \"ticks\": \"\"}}, \"colorscale\": {\"diverging\": [[0, \"#8e0152\"], [0.1, \"#c51b7d\"], [0.2, \"#de77ae\"], [0.3, \"#f1b6da\"], [0.4, \"#fde0ef\"], [0.5, \"#f7f7f7\"], [0.6, \"#e6f5d0\"], [0.7, \"#b8e186\"], [0.8, \"#7fbc41\"], [0.9, \"#4d9221\"], [1, \"#276419\"]], \"sequential\": [[0.0, \"#0d0887\"], [0.1111111111111111, \"#46039f\"], [0.2222222222222222, \"#7201a8\"], [0.3333333333333333, \"#9c179e\"], [0.4444444444444444, \"#bd3786\"], [0.5555555555555556, \"#d8576b\"], [0.6666666666666666, \"#ed7953\"], [0.7777777777777778, \"#fb9f3a\"], [0.8888888888888888, \"#fdca26\"], [1.0, \"#f0f921\"]], \"sequentialminus\": [[0.0, \"#0d0887\"], [0.1111111111111111, \"#46039f\"], [0.2222222222222222, \"#7201a8\"], [0.3333333333333333, \"#9c179e\"], [0.4444444444444444, \"#bd3786\"], [0.5555555555555556, \"#d8576b\"], [0.6666666666666666, \"#ed7953\"], [0.7777777777777778, \"#fb9f3a\"], [0.8888888888888888, \"#fdca26\"], [1.0, \"#f0f921\"]]}, \"colorway\": [\"#636efa\", \"#EF553B\", \"#00cc96\", \"#ab63fa\", \"#FFA15A\", \"#19d3f3\", \"#FF6692\", \"#B6E880\", \"#FF97FF\", \"#FECB52\"], \"font\": {\"color\": \"#2a3f5f\"}, \"geo\": {\"bgcolor\": \"white\", \"lakecolor\": \"white\", \"landcolor\": \"#E5ECF6\", \"showlakes\": true, \"showland\": true, \"subunitcolor\": \"white\"}, \"hoverlabel\": {\"align\": \"left\"}, \"hovermode\": \"closest\", \"mapbox\": {\"style\": \"light\"}, \"paper_bgcolor\": \"white\", \"plot_bgcolor\": \"#E5ECF6\", \"polar\": {\"angularaxis\": {\"gridcolor\": \"white\", \"linecolor\": \"white\", \"ticks\": \"\"}, \"bgcolor\": \"#E5ECF6\", \"radialaxis\": {\"gridcolor\": \"white\", \"linecolor\": \"white\", \"ticks\": \"\"}}, \"scene\": {\"xaxis\": {\"backgroundcolor\": \"#E5ECF6\", \"gridcolor\": \"white\", \"gridwidth\": 2, \"linecolor\": \"white\", \"showbackground\": true, \"ticks\": \"\", \"zerolinecolor\": \"white\"}, \"yaxis\": {\"backgroundcolor\": \"#E5ECF6\", \"gridcolor\": \"white\", \"gridwidth\": 2, \"linecolor\": \"white\", \"showbackground\": true, \"ticks\": \"\", \"zerolinecolor\": \"white\"}, \"zaxis\": {\"backgroundcolor\": \"#E5ECF6\", \"gridcolor\": \"white\", \"gridwidth\": 2, \"linecolor\": \"white\", \"showbackground\": true, \"ticks\": \"\", \"zerolinecolor\": \"white\"}}, \"shapedefaults\": {\"line\": {\"color\": \"#2a3f5f\"}}, \"ternary\": {\"aaxis\": {\"gridcolor\": \"white\", \"linecolor\": \"white\", \"ticks\": \"\"}, \"baxis\": {\"gridcolor\": \"white\", \"linecolor\": \"white\", \"ticks\": \"\"}, \"bgcolor\": \"#E5ECF6\", \"caxis\": {\"gridcolor\": \"white\", \"linecolor\": \"white\", \"ticks\": \"\"}}, \"title\": {\"x\": 0.05}, \"xaxis\": {\"automargin\": true, \"gridcolor\": \"white\", \"linecolor\": \"white\", \"ticks\": \"\", \"title\": {\"standoff\": 15}, \"zerolinecolor\": \"white\", \"zerolinewidth\": 2}, \"yaxis\": {\"automargin\": true, \"gridcolor\": \"white\", \"linecolor\": \"white\", \"ticks\": \"\", \"title\": {\"standoff\": 15}, \"zerolinecolor\": \"white\", \"zerolinewidth\": 2}}}, \"title\": {\"text\": \"Free Parking Duration Breakdown\"}, \"xaxis\": {\"dtick\": 5, \"tick0\": 0, \"title\": {\"text\": \"Free Parking Duration\"}}, \"yaxis\": {\"title\": {\"text\": \"Count\"}}},\n",
       "                        {\"responsive\": true}\n",
       "                    ).then(function(){\n",
       "                            \n",
       "var gd = document.getElementById('c2558e73-6684-455f-995e-53644d50b038');\n",
       "var x = new MutationObserver(function (mutations, observer) {{\n",
       "        var display = window.getComputedStyle(gd).display;\n",
       "        if (!display || display === 'none') {{\n",
       "            console.log([gd, 'removed!']);\n",
       "            Plotly.purge(gd);\n",
       "            observer.disconnect();\n",
       "        }}\n",
       "}});\n",
       "\n",
       "// Listen for the removal of the full notebook cells\n",
       "var notebookContainer = gd.closest('#notebook-container');\n",
       "if (notebookContainer) {{\n",
       "    x.observe(notebookContainer, {childList: true});\n",
       "}}\n",
       "\n",
       "// Listen for the clearing of the current output cell\n",
       "var outputEl = gd.closest('.output');\n",
       "if (outputEl) {{\n",
       "    x.observe(outputEl, {childList: true});\n",
       "}}\n",
       "\n",
       "                        })\n",
       "                };\n",
       "                });\n",
       "            </script>\n",
       "        </div>"
      ]
     },
     "metadata": {},
     "output_type": "display_data"
    }
   ],
   "source": [
    "# Free stopping distribution graph\n",
    "index = df_live.groupby(\"ucretsizparklanmadk\")[\"parkid\"].count().sort_values(ascending=False).index\n",
    "value = df_live.groupby(\"ucretsizparklanmadk\")[\"parkid\"].count().sort_values(ascending=False).values\n",
    "\n",
    "fig = go.Figure(data=[go.Bar(x=index, y=value,\n",
    "                hovertext=index, text=value, textposition=\"outside\")])\n",
    "\n",
    "fig.update_traces(marker_color=\"#D62728\", marker_line_color=\"black\",\n",
    "                  marker_line_width=1.5, opacity=0.65)\n",
    "\n",
    "fig.update_layout(title_text=\"Free Parking Duration Breakdown\",\n",
    "                  xaxis_title=\"Free Parking Duration\",\n",
    "                  legend_orientation=\"h\",\n",
    "                  yaxis_title=\"Count\",)\n",
    "\n",
    "fig.update_xaxes(tick0=0, dtick=5)\n",
    "\n",
    "fig.show()"
   ]
  },
  {
   "cell_type": "code",
   "execution_count": 118,
   "metadata": {},
   "outputs": [
    {
     "data": {
      "text/html": [
       "<style  type=\"text/css\" >\n",
       "    #T_939dbee6_d1a7_11ea_aa46_94f6d61f3bferow0_col0 {\n",
       "            background-color:  #00441b;\n",
       "            color:  #f1f1f1;\n",
       "        }    #T_939dbee6_d1a7_11ea_aa46_94f6d61f3bferow1_col0 {\n",
       "            background-color:  #98d594;\n",
       "            color:  #000000;\n",
       "        }    #T_939dbee6_d1a7_11ea_aa46_94f6d61f3bferow2_col0 {\n",
       "            background-color:  #98d594;\n",
       "            color:  #000000;\n",
       "        }    #T_939dbee6_d1a7_11ea_aa46_94f6d61f3bferow3_col0 {\n",
       "            background-color:  #e9f7e5;\n",
       "            color:  #000000;\n",
       "        }    #T_939dbee6_d1a7_11ea_aa46_94f6d61f3bferow4_col0 {\n",
       "            background-color:  #e9f7e5;\n",
       "            color:  #000000;\n",
       "        }    #T_939dbee6_d1a7_11ea_aa46_94f6d61f3bferow5_col0 {\n",
       "            background-color:  #e9f7e5;\n",
       "            color:  #000000;\n",
       "        }    #T_939dbee6_d1a7_11ea_aa46_94f6d61f3bferow6_col0 {\n",
       "            background-color:  #e9f7e5;\n",
       "            color:  #000000;\n",
       "        }    #T_939dbee6_d1a7_11ea_aa46_94f6d61f3bferow7_col0 {\n",
       "            background-color:  #f7fcf5;\n",
       "            color:  #000000;\n",
       "        }    #T_939dbee6_d1a7_11ea_aa46_94f6d61f3bferow8_col0 {\n",
       "            background-color:  #f7fcf5;\n",
       "            color:  #000000;\n",
       "        }</style><table id=\"T_939dbee6_d1a7_11ea_aa46_94f6d61f3bfe\" ><thead>    <tr>        <th class=\"blank level0\" ></th>        <th class=\"col_heading level0 col0\" >ucretsizparklanmadk</th>        <th class=\"col_heading level0 col1\" >parkadi</th>    </tr></thead><tbody>\n",
       "                <tr>\n",
       "                        <th id=\"T_939dbee6_d1a7_11ea_aa46_94f6d61f3bfelevel0_row0\" class=\"row_heading level0 row0\" >591</th>\n",
       "                        <td id=\"T_939dbee6_d1a7_11ea_aa46_94f6d61f3bferow0_col0\" class=\"data row0 col0\" >120</td>\n",
       "                        <td id=\"T_939dbee6_d1a7_11ea_aa46_94f6d61f3bferow0_col1\" class=\"data row0 col1\" >İspark West İstanbul Marina Açık Otoparkı</td>\n",
       "            </tr>\n",
       "            <tr>\n",
       "                        <th id=\"T_939dbee6_d1a7_11ea_aa46_94f6d61f3bfelevel0_row1\" class=\"row_heading level0 row1\" >505</th>\n",
       "                        <td id=\"T_939dbee6_d1a7_11ea_aa46_94f6d61f3bferow1_col0\" class=\"data row1 col0\" >60</td>\n",
       "                        <td id=\"T_939dbee6_d1a7_11ea_aa46_94f6d61f3bferow1_col1\" class=\"data row1 col1\" >15 Temmuz Demokrasi Otogarı</td>\n",
       "            </tr>\n",
       "            <tr>\n",
       "                        <th id=\"T_939dbee6_d1a7_11ea_aa46_94f6d61f3bfelevel0_row2\" class=\"row_heading level0 row2\" >544</th>\n",
       "                        <td id=\"T_939dbee6_d1a7_11ea_aa46_94f6d61f3bferow2_col0\" class=\"data row2 col0\" >60</td>\n",
       "                        <td id=\"T_939dbee6_d1a7_11ea_aa46_94f6d61f3bferow2_col1\" class=\"data row2 col1\" >EGS Blokları Açık Otoparkı</td>\n",
       "            </tr>\n",
       "            <tr>\n",
       "                        <th id=\"T_939dbee6_d1a7_11ea_aa46_94f6d61f3bfelevel0_row3\" class=\"row_heading level0 row3\" >420</th>\n",
       "                        <td id=\"T_939dbee6_d1a7_11ea_aa46_94f6d61f3bferow3_col0\" class=\"data row3 col0\" >30</td>\n",
       "                        <td id=\"T_939dbee6_d1a7_11ea_aa46_94f6d61f3bferow3_col1\" class=\"data row3 col1\" >Beykoz Sosyal Tesisleri 1</td>\n",
       "            </tr>\n",
       "            <tr>\n",
       "                        <th id=\"T_939dbee6_d1a7_11ea_aa46_94f6d61f3bfelevel0_row4\" class=\"row_heading level0 row4\" >423</th>\n",
       "                        <td id=\"T_939dbee6_d1a7_11ea_aa46_94f6d61f3bferow4_col0\" class=\"data row4 col0\" >30</td>\n",
       "                        <td id=\"T_939dbee6_d1a7_11ea_aa46_94f6d61f3bferow4_col1\" class=\"data row4 col1\" >Beykoz Sosyal Tesisleri 2</td>\n",
       "            </tr>\n",
       "            <tr>\n",
       "                        <th id=\"T_939dbee6_d1a7_11ea_aa46_94f6d61f3bfelevel0_row5\" class=\"row_heading level0 row5\" >479</th>\n",
       "                        <td id=\"T_939dbee6_d1a7_11ea_aa46_94f6d61f3bferow5_col0\" class=\"data row5 col0\" >30</td>\n",
       "                        <td id=\"T_939dbee6_d1a7_11ea_aa46_94f6d61f3bferow5_col1\" class=\"data row5 col1\" >Alibeyköy Cep Otogarı Açık Otoparkı</td>\n",
       "            </tr>\n",
       "            <tr>\n",
       "                        <th id=\"T_939dbee6_d1a7_11ea_aa46_94f6d61f3bfelevel0_row6\" class=\"row_heading level0 row6\" >525</th>\n",
       "                        <td id=\"T_939dbee6_d1a7_11ea_aa46_94f6d61f3bferow6_col0\" class=\"data row6 col0\" >30</td>\n",
       "                        <td id=\"T_939dbee6_d1a7_11ea_aa46_94f6d61f3bferow6_col1\" class=\"data row6 col1\" >Okan Üniversitesi Zemin Altı Otoparkı</td>\n",
       "            </tr>\n",
       "            <tr>\n",
       "                        <th id=\"T_939dbee6_d1a7_11ea_aa46_94f6d61f3bfelevel0_row7\" class=\"row_heading level0 row7\" >64</th>\n",
       "                        <td id=\"T_939dbee6_d1a7_11ea_aa46_94f6d61f3bferow7_col0\" class=\"data row7 col0\" >20</td>\n",
       "                        <td id=\"T_939dbee6_d1a7_11ea_aa46_94f6d61f3bferow7_col1\" class=\"data row7 col1\" >Eski Salı Pazarı</td>\n",
       "            </tr>\n",
       "            <tr>\n",
       "                        <th id=\"T_939dbee6_d1a7_11ea_aa46_94f6d61f3bfelevel0_row8\" class=\"row_heading level0 row8\" >97</th>\n",
       "                        <td id=\"T_939dbee6_d1a7_11ea_aa46_94f6d61f3bferow8_col0\" class=\"data row8 col0\" >20</td>\n",
       "                        <td id=\"T_939dbee6_d1a7_11ea_aa46_94f6d61f3bferow8_col1\" class=\"data row8 col1\" >Çengelköy Açık Otoparkı</td>\n",
       "            </tr>\n",
       "    </tbody></table>"
      ],
      "text/plain": [
       "<pandas.io.formats.style.Styler at 0x7fe4ed6179d0>"
      ]
     },
     "execution_count": 118,
     "metadata": {},
     "output_type": "execute_result"
    }
   ],
   "source": [
    "df_live[df_live[\"ucretsizparklanmadk\"] > 15].sort_values(by=\"ucretsizparklanmadk\", ascending=False).head(20)[{\"parkadi\", \"ucretsizparklanmadk\"}].style.background_gradient(cmap='Greens')"
   ]
  },
  {
   "cell_type": "markdown",
   "metadata": {},
   "source": [
    "### Outcome\n",
    "***\n",
    "\n",
    "Significant number of parking zone have a free stopping duration of 15 min. Only 9 parking zone have a free stopping time >15 min. \n",
    "\n",
    "Ispark West Istanbul Marina, 15 Temmuz Demokrasi Otogarı and EGS Blokları Açık Otoparkı have the most free stop time in Istanbul. Others can be seen on the above list."
   ]
  },
  {
   "cell_type": "code",
   "execution_count": null,
   "metadata": {},
   "outputs": [],
   "source": []
  }
 ],
 "metadata": {
  "kernelspec": {
   "display_name": "Python 3",
   "language": "python",
   "name": "python3"
  },
  "language_info": {
   "codemirror_mode": {
    "name": "ipython",
    "version": 3
   },
   "file_extension": ".py",
   "mimetype": "text/x-python",
   "name": "python",
   "nbconvert_exporter": "python",
   "pygments_lexer": "ipython3",
   "version": "3.7.4"
  }
 },
 "nbformat": 4,
 "nbformat_minor": 2
}
